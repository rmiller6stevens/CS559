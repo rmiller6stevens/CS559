{
  "cells": [
    {
      "cell_type": "markdown",
      "metadata": {
        "id": "GeIRIwB-Lpr9"
      },
      "source": [
        "#Robert Miller\n",
        "#I pledge my honor that I have abided by the Stevens Honor System"
      ]
    },
    {
      "cell_type": "markdown",
      "metadata": {
        "id": "DGM36LJP5gq3"
      },
      "source": [
        "#EDA on Hitters.csv"
      ]
    },
    {
      "cell_type": "code",
      "execution_count": 1,
      "metadata": {
        "id": "vmCqtxq36XBG"
      },
      "outputs": [],
      "source": [
        "import numpy as np\n",
        "import time\n",
        "from sklearn.model_selection import train_test_split\n",
        "import pandas as pd\n",
        "import matplotlib.pyplot as plt\n",
        "from sklearn.model_selection import GridSearchCV\n",
        "from sklearn.datasets import make_regression\n",
        "from sklearn.linear_model import LinearRegression\n",
        "from sklearn.neural_network import MLPRegressor\n",
        "from sklearn.metrics import mean_squared_error\n",
        "from sklearn.neighbors import KNeighborsClassifier, KNeighborsRegressor\n",
        "from sklearn.metrics import accuracy_score\n",
        "from sklearn.metrics.pairwise import polynomial_kernel\n",
        "from sklearn.preprocessing import PolynomialFeatures\n",
        "from sklearn.kernel_ridge import KernelRidge\n",
        "from sklearn.metrics.pairwise import polynomial_kernel\n",
        "from scipy.optimize import Bounds, BFGS\n",
        "from scipy.optimize import LinearConstraint, minimize\n",
        "import matplotlib.pyplot as plt\n",
        "import seaborn as sns\n",
        "import sklearn.datasets as dt\n",
        "from sklearn.svm import SVC"
      ]
    },
    {
      "cell_type": "code",
      "execution_count": 2,
      "metadata": {
        "id": "aVPUZA0NKidw"
      },
      "outputs": [],
      "source": [
        "df = pd.read_csv('Hitters.csv') #Process as in hw1\n",
        "\n",
        "# for col in df.columns:\n",
        "#   print(col) #\n",
        "#   print(df[col].isnull().sum())\n",
        "#Im not running this loop every time, but Salary is missing 59 values, which is not insignificant, but not most of the values, so instead of dropping the column I am going to replace the Nan with the average values\n",
        "sal_avg = df['Salary'].mean()\n",
        "df['Salary'] = df['Salary'].fillna(sal_avg)\n",
        "X_train, X_test = train_test_split (df,test_size = 0.2, random_state = 42) #8 to 2 split"
      ]
    },
    {
      "cell_type": "code",
      "execution_count": 3,
      "metadata": {
        "id": "LexRucArgE2U"
      },
      "outputs": [],
      "source": [
        "#remove the outliers in the data, this is done by my own discretion before normalization\n",
        "X_train = X_train[X_train['HmRun'] < 35]\n",
        "X_test = X_test[X_test['HmRun'] < 35]\n",
        "X_train = X_train[X_train['RBI'] < 120]\n",
        "X_test = X_test[X_test['RBI'] < 120]\n",
        "X_train = X_train[X_train['Walks'] < 100]\n",
        "X_test = X_test[X_test['Walks'] < 100]\n",
        "X_train = X_train[X_train['Years'] < 20]\n",
        "X_test = X_test[X_test['Years'] < 20]\n",
        "X_train = X_train[X_train['CHmRun'] < 200]\n",
        "X_test = X_test[X_test['CHmRun'] < 200]\n",
        "X_train = X_train[X_train['CRuns'] < 1200]\n",
        "X_test = X_test[X_test['CRuns'] < 1200]\n",
        "X_train = X_train[X_train['CRBI'] < 900]\n",
        "X_test = X_test[X_test['CRBI'] < 900]\n",
        "X_train = X_train[X_train['CWalks'] < 700]\n",
        "X_test = X_test[X_test['CWalks'] < 700]\n",
        "X_train = X_train[X_train['PutOuts'] < 650]\n",
        "X_test = X_test[X_test['PutOuts'] < 650]\n",
        "X_train = X_train[X_train['Assists'] < 350]\n",
        "X_test = X_test[X_test['Assists'] < 350]\n",
        "X_train = X_train[X_train['Errors'] < 25]\n",
        "X_test = X_test[X_test['Errors'] < 25]\n",
        "X_train = X_train[X_train['Salary'] < 1500]\n",
        "X_test = X_test[X_test['Salary'] < 1500]"
      ]
    },
    {
      "cell_type": "code",
      "execution_count": 4,
      "metadata": {
        "id": "aK1uQQzpTfGx"
      },
      "outputs": [],
      "source": [
        "#I am going to create this feature as I think its more impactful to the data when compared to other stats, and its arguably more important than hits on its own since its weighted against how often they are batting\n",
        "subX_train = X_train['Hits'] / X_train['AtBat']\n",
        "subX_test = X_test['Hits'] / X_test['AtBat']\n",
        "subX_train = X_train['CHits'] / X_train['CAtBat']\n",
        "subX_test = X_test['CHits'] / X_test['CAtBat']\n",
        "X_train = X_train.assign(HitRate = subX_train)\n",
        "X_test = X_test.assign(HitRate = subX_test)\n",
        "X_train = X_train.assign(CHitRate = subX_train)\n",
        "X_test = X_test.assign(CHitRate = subX_test)\n",
        "X_train = X_train.drop(columns = ['Hits', 'AtBat'])\n",
        "X_test = X_test.drop(columns = ['Hits', 'AtBat'])\n",
        "X_train = X_train.drop(columns = ['CHits', 'CAtBat'])\n",
        "X_test = X_test.drop(columns = ['CHits', 'CAtBat'])\n",
        "#ADDING CAREER HIT RATE!"
      ]
    },
    {
      "cell_type": "code",
      "execution_count": 5,
      "metadata": {
        "colab": {
          "base_uri": "https://localhost:8080/"
        },
        "id": "agtgG6F04OvQ",
        "outputId": "f120ea48-1b93-4c68-ae95-60296ea27576"
      },
      "outputs": [
        {
          "output_type": "stream",
          "name": "stderr",
          "text": [
            "<ipython-input-5-ab803e89a275>:10: FutureWarning: Downcasting behavior in `replace` is deprecated and will be removed in a future version. To retain the old behavior, explicitly call `result.infer_objects(copy=False)`. To opt-in to the future behavior, set `pd.set_option('future.no_silent_downcasting', True)`\n",
            "  X_train['League'] = X_train['League'].replace({'N': 0, 'A':1})\n",
            "<ipython-input-5-ab803e89a275>:11: FutureWarning: Downcasting behavior in `replace` is deprecated and will be removed in a future version. To retain the old behavior, explicitly call `result.infer_objects(copy=False)`. To opt-in to the future behavior, set `pd.set_option('future.no_silent_downcasting', True)`\n",
            "  X_test['League'] = X_test['League'].replace({'N': 0, 'A':1})\n",
            "<ipython-input-5-ab803e89a275>:12: FutureWarning: Downcasting behavior in `replace` is deprecated and will be removed in a future version. To retain the old behavior, explicitly call `result.infer_objects(copy=False)`. To opt-in to the future behavior, set `pd.set_option('future.no_silent_downcasting', True)`\n",
            "  X_train['Division'] = X_train['Division'].replace({'E': 0, 'W':1})\n",
            "<ipython-input-5-ab803e89a275>:13: FutureWarning: Downcasting behavior in `replace` is deprecated and will be removed in a future version. To retain the old behavior, explicitly call `result.infer_objects(copy=False)`. To opt-in to the future behavior, set `pd.set_option('future.no_silent_downcasting', True)`\n",
            "  X_test['Division'] = X_test['Division'].replace({'E': 0, 'W':1})\n",
            "<ipython-input-5-ab803e89a275>:14: FutureWarning: Downcasting behavior in `replace` is deprecated and will be removed in a future version. To retain the old behavior, explicitly call `result.infer_objects(copy=False)`. To opt-in to the future behavior, set `pd.set_option('future.no_silent_downcasting', True)`\n",
            "  X_train['NewLeague'] = X_train['NewLeague'].replace({'N': 0, 'A':1})\n",
            "<ipython-input-5-ab803e89a275>:15: FutureWarning: Downcasting behavior in `replace` is deprecated and will be removed in a future version. To retain the old behavior, explicitly call `result.infer_objects(copy=False)`. To opt-in to the future behavior, set `pd.set_option('future.no_silent_downcasting', True)`\n",
            "  X_test['NewLeague'] = X_test['NewLeague'].replace({'N': 0, 'A':1})\n"
          ]
        }
      ],
      "source": [
        "#I imagine this is for machine learning, so I will be using Box-Cox to hopefully make the data into gaussian distribution\n",
        "from scipy import stats\n",
        "for col in X_train.columns:\n",
        "  if(col not in ['League', 'Division', 'NewLeague']):\n",
        "    #because we do log transformations, I will be adding 1 to 0 to make sure that there is no error\n",
        "    if(X_train[col] == 0).any():\n",
        "      X_train[col] = X_train[col] + 1\n",
        "    X_train[col], lambdas= stats.boxcox(X_train[col])\n",
        "#Convert the binary categories into 0 or 1, for League and New League (y) it will be 0 - A, 1 - N and for Division it will be E - 0, W - 1\n",
        "X_train['League'] = X_train['League'].replace({'N': 0, 'A':1})\n",
        "X_test['League'] = X_test['League'].replace({'N': 0, 'A':1})\n",
        "X_train['Division'] = X_train['Division'].replace({'E': 0, 'W':1})\n",
        "X_test['Division'] = X_test['Division'].replace({'E': 0, 'W':1})\n",
        "X_train['NewLeague'] = X_train['NewLeague'].replace({'N': 0, 'A':1})\n",
        "X_test['NewLeague'] = X_test['NewLeague'].replace({'N': 0, 'A':1})"
      ]
    },
    {
      "cell_type": "markdown",
      "metadata": {
        "id": "t5nqcWG32n0u"
      },
      "source": [
        "#Neural Networks"
      ]
    },
    {
      "cell_type": "code",
      "execution_count": 6,
      "metadata": {
        "colab": {
          "base_uri": "https://localhost:8080/"
        },
        "id": "8eWoLNGFCZB9",
        "outputId": "a000eaef-b41a-45f6-aa29-ce96ed3901ed"
      },
      "outputs": [
        {
          "output_type": "stream",
          "name": "stdout",
          "text": [
            "MSE =  1.067e+05\n"
          ]
        }
      ],
      "source": [
        "X_trainNN = X_train\n",
        "X_testNN = X_test\n",
        "y_trainNN = X_trainNN['Salary']\n",
        "y_testNN = X_testNN['Salary']\n",
        "#DROP Salary before prediction!\n",
        "X_trainNN = X_trainNN.drop(columns = 'Salary')\n",
        "X_testNN = X_testNN.drop(columns = 'Salary')\n",
        "\n",
        "nn = MLPRegressor(max_iter = 100000)\n",
        "nn.fit(X_trainNN, y_trainNN)\n",
        "h_nn = nn.predict(X_testNN)\n",
        "mse = mean_squared_error(y_testNN,h_nn)\n",
        "print(f'MSE = {mse : .3e}')"
      ]
    },
    {
      "cell_type": "code",
      "execution_count": 7,
      "metadata": {
        "colab": {
          "base_uri": "https://localhost:8080/"
        },
        "id": "UFs3n-KRJAvO",
        "outputId": "200164a9-4f4b-4c21-eb0f-c7a89a9945a7"
      },
      "outputs": [
        {
          "output_type": "stream",
          "name": "stdout",
          "text": [
            "activation:tanh, n_iter: 20, mse = 2.329e+05,       \n",
            "number of layers = 3, excution time: 2.9602e-01,          \n",
            "coefficient size = [(17, 100), (100, 1)],\n",
            "---------\n",
            "activation:logistic, n_iter: 15, mse = 2.357e+05,       \n",
            "number of layers = 3, excution time: 1.6462e-01,          \n",
            "coefficient size = [(17, 100), (100, 1)],\n",
            "---------\n",
            "activation:relu, n_iter: 398, mse = 8.196e+04,       \n",
            "number of layers = 3, excution time: 1.8770e+00,          \n",
            "coefficient size = [(17, 100), (100, 1)],\n",
            "---------\n"
          ]
        }
      ],
      "source": [
        "activations = ['tanh','logistic','relu']\n",
        "for activation in activations:\n",
        "    start = time.time()\n",
        "    nn = MLPRegressor(max_iter = 200000, activation=activation, solver = 'adam',\n",
        "                      learning_rate_init = 0.1, learning_rate = 'constant')\n",
        "    nn.fit(X_trainNN,y_trainNN)\n",
        "    y_pred = nn.predict(X_testNN)\n",
        "    end = time.time()\n",
        "    print(f'activation:{activation}, n_iter: {nn.n_iter_}, mse = {mean_squared_error(y_testNN,y_pred):.3e}, \\\n",
        "      \\nnumber of layers = {nn.n_layers_}, excution time: {end-start:.4e},\\\n",
        "          \\ncoefficient size = {[coef.shape for coef in nn.coefs_]},\\n---------')"
      ]
    },
    {
      "cell_type": "code",
      "source": [
        "nn_param = {'activation': ['tanh','logistic','relu'], 'hidden_layer_sizes':[(50,),(100,),(1000,),(200,100),(100,100)]}\n",
        "nn = MLPRegressor(max_iter=200000, solver='adam',\n",
        "                      learning_rate_init = 0.005, learning_rate = 'constant')\n",
        "nn_cv = GridSearchCV(nn, nn_param, cv=2, verbose=1)\n",
        "start = time.time()\n",
        "nn_cv.fit(X_trainNN,y_trainNN)\n",
        "grid_predict = nn_cv.predict(X_testNN)\n",
        "end = time.time()\n",
        "print(f'excution time: {end-start:.4e} \\n---------')\n",
        "mse = mean_squared_error(y_testNN,grid_predict)\n",
        "print(f'MSE = {mse}')\n",
        "\n",
        "#Get Best Parameters\n",
        "nn_cv.best_params_"
      ],
      "metadata": {
        "colab": {
          "base_uri": "https://localhost:8080/"
        },
        "id": "ruXkbpyMvp6H",
        "outputId": "766b66f3-6aff-4d55-d044-90dce7134603"
      },
      "execution_count": 8,
      "outputs": [
        {
          "output_type": "stream",
          "name": "stdout",
          "text": [
            "Fitting 2 folds for each of 15 candidates, totalling 30 fits\n",
            "excution time: 4.6267e+01 \n",
            "---------\n",
            "MSE = 86226.71710323854\n"
          ]
        },
        {
          "output_type": "execute_result",
          "data": {
            "text/plain": [
              "{'activation': 'relu', 'hidden_layer_sizes': (200, 100)}"
            ]
          },
          "metadata": {},
          "execution_count": 8
        }
      ]
    },
    {
      "cell_type": "code",
      "execution_count": 9,
      "metadata": {
        "colab": {
          "base_uri": "https://localhost:8080/"
        },
        "id": "-dqEvNvXJV4E",
        "outputId": "db153107-1ebe-4bc0-9047-9798a3a7f355"
      },
      "outputs": [
        {
          "output_type": "stream",
          "name": "stdout",
          "text": [
            "Fitting 2 folds for each of 1 candidates, totalling 2 fits\n",
            "excution time: 7.3630e+00 \n",
            "---------\n",
            "MSE 50 = 219947.9804764214\n",
            "Fitting 2 folds for each of 1 candidates, totalling 2 fits\n",
            "excution time: 3.1806e+00 \n",
            "---------\n",
            "MSE = 232035.0070331064\n",
            "Fitting 2 folds for each of 1 candidates, totalling 2 fits\n",
            "excution time: 3.1971e-01 \n",
            "---------\n",
            "MSE = 232984.47612506905\n",
            "Fitting 2 folds for each of 1 candidates, totalling 2 fits\n",
            "excution time: 9.6624e-01 \n",
            "---------\n",
            "MSE = 232158.8399894475\n",
            "Fitting 2 folds for each of 1 candidates, totalling 2 fits\n",
            "excution time: 4.7279e-01 \n",
            "---------\n",
            "MSE = 231879.16692491114\n"
          ]
        }
      ],
      "source": [
        "exe_times = []\n",
        "errors = []\n",
        "#Get Best Parameters\n",
        "nn_cv.best_params_\n",
        "#Get each option so we can compare\n",
        "nn_param = {'activation': ['logistic'], 'hidden_layer_sizes':[(50,)]}\n",
        "nn = MLPRegressor(max_iter=200000, solver='adam',\n",
        "                      learning_rate_init = 0.005, learning_rate = 'constant')\n",
        "nn_cv = GridSearchCV(nn, nn_param, cv=2, verbose=1)\n",
        "start = time.time()\n",
        "nn_cv.fit(X_trainNN,y_trainNN)\n",
        "grid_predict = nn_cv.predict(X_testNN)\n",
        "end = time.time()\n",
        "print(f'excution time: {end-start:.4e} \\n---------')\n",
        "mse = mean_squared_error(y_testNN,grid_predict)\n",
        "print(f'MSE 50 = {mse}')\n",
        "exe_times.append(end)\n",
        "errors.append(mse)\n",
        "##############################\n",
        "nn_param = {'activation': ['logistic'], 'hidden_layer_sizes':[(100,)]}\n",
        "nn = MLPRegressor(max_iter=200000, solver='adam',\n",
        "                      learning_rate_init = 0.005, learning_rate = 'constant')\n",
        "nn_cv = GridSearchCV(nn, nn_param, cv=2, verbose=1)\n",
        "start = time.time()\n",
        "nn_cv.fit(X_trainNN,y_trainNN)\n",
        "grid_predict = nn_cv.predict(X_testNN)\n",
        "end = time.time()\n",
        "print(f'excution time: {end-start:.4e} \\n---------')\n",
        "mse = mean_squared_error(y_testNN,grid_predict)\n",
        "print(f'MSE = {mse}')\n",
        "exe_times.append(end)\n",
        "errors.append(mse)\n",
        "##############################\n",
        "nn_param = {'activation': ['logistic'], 'hidden_layer_sizes':[(1000,)]}\n",
        "nn = MLPRegressor(max_iter=200000, solver='adam',\n",
        "                      learning_rate_init = 0.005, learning_rate = 'constant')\n",
        "nn_cv = GridSearchCV(nn, nn_param, cv=2, verbose=1)\n",
        "start = time.time()\n",
        "nn_cv.fit(X_trainNN,y_trainNN)\n",
        "grid_predict = nn_cv.predict(X_testNN)\n",
        "end = time.time()\n",
        "print(f'excution time: {end-start:.4e} \\n---------')\n",
        "mse = mean_squared_error(y_testNN,grid_predict)\n",
        "print(f'MSE = {mse}')\n",
        "exe_times.append(end)\n",
        "errors.append(mse)\n",
        "##############################\n",
        "nn_param = {'activation': ['logistic'], 'hidden_layer_sizes':[(200,100)]}\n",
        "nn = MLPRegressor(max_iter=200000, solver='adam',\n",
        "                      learning_rate_init = 0.005, learning_rate = 'constant')\n",
        "nn_cv = GridSearchCV(nn, nn_param, cv=2, verbose=1)\n",
        "start = time.time()\n",
        "nn_cv.fit(X_trainNN,y_trainNN)\n",
        "grid_predict = nn_cv.predict(X_testNN)\n",
        "end = time.time()\n",
        "print(f'excution time: {end-start:.4e} \\n---------')\n",
        "mse = mean_squared_error(y_testNN,grid_predict)\n",
        "print(f'MSE = {mse}')\n",
        "exe_times.append(end)\n",
        "errors.append(mse)\n",
        "##############################\n",
        "nn_param = {'activation': ['logistic'], 'hidden_layer_sizes':[(100,100)]}\n",
        "nn = MLPRegressor(max_iter=200000, solver='adam',\n",
        "                      learning_rate_init = 0.005, learning_rate = 'constant')\n",
        "nn_cv = GridSearchCV(nn, nn_param, cv=2, verbose=1)\n",
        "start = time.time()\n",
        "nn_cv.fit(X_trainNN,y_trainNN)\n",
        "grid_predict = nn_cv.predict(X_testNN)\n",
        "end = time.time()\n",
        "print(f'excution time: {end-start:.4e} \\n---------')\n",
        "mse = mean_squared_error(y_testNN,grid_predict)\n",
        "print(f'MSE = {mse}')\n",
        "exe_times.append(end)\n",
        "errors.append(mse)\n",
        "##############################"
      ]
    },
    {
      "cell_type": "code",
      "source": [
        "plt.figure(figsize=(5,5))\n",
        "plt.bar(['50','100','1000', '200 x 100', '100 x 100'],exe_times)\n",
        "plt.legend()\n",
        "plt.show()\n",
        "plt.bar(['50','100','1000', '200 x 100', '100 x 100'],errors)\n",
        "plt.legend()\n",
        "plt.show()"
      ],
      "metadata": {
        "colab": {
          "base_uri": "https://localhost:8080/",
          "height": 928
        },
        "id": "yYlqBxDvndi0",
        "outputId": "4fc27eef-7c6c-4acd-8534-25e0da756078"
      },
      "execution_count": 10,
      "outputs": [
        {
          "output_type": "stream",
          "name": "stderr",
          "text": [
            "WARNING:matplotlib.legend:No artists with labels found to put in legend.  Note that artists whose label start with an underscore are ignored when legend() is called with no argument.\n"
          ]
        },
        {
          "output_type": "display_data",
          "data": {
            "text/plain": [
              "<Figure size 500x500 with 1 Axes>"
            ],
            "image/png": "[encoded data removed]"
          },
          "metadata": {}
        },
        {
          "output_type": "stream",
          "name": "stderr",
          "text": [
            "WARNING:matplotlib.legend:No artists with labels found to put in legend.  Note that artists whose label start with an underscore are ignored when legend() is called with no argument.\n"
          ]
        },
        {
          "output_type": "display_data",
          "data": {
            "text/plain": [
              "<Figure size 640x480 with 1 Axes>"
            ],
            "image/png": "[encoded data removed]"
          },
          "metadata": {}
        }
      ]
    },
    {
      "cell_type": "markdown",
      "metadata": {
        "id": "YVIlLdjpLsi-"
      },
      "source": [
        "The best model has several components, including complexity, time to execute, and MSE."
      ]
    },
    {
      "cell_type": "markdown",
      "metadata": {
        "id": "Kcc2VlAXP8cu"
      },
      "source": [
        "#kNN"
      ]
    },
    {
      "cell_type": "code",
      "execution_count": 11,
      "metadata": {
        "id": "ZkXIfhIUQAdL"
      },
      "outputs": [],
      "source": [
        "X_trainkNN = X_train\n",
        "X_testkNN = X_test\n",
        "y_trainkNN = X_trainkNN['Salary']\n",
        "y_testkNN = X_testkNN['Salary']\n",
        "#DROP Salary before prediction!\n",
        "X_trainkNN = X_trainkNN.drop(columns = 'Salary')\n",
        "X_testkNN = X_testkNN.drop(columns = 'Salary')"
      ]
    },
    {
      "cell_type": "code",
      "source": [
        "errors = []\n",
        "exe_times = []\n",
        "#Make a Regressor\n",
        "knn=KNeighborsRegressor(n_neighbors=3)\n",
        "start = time.time()\n",
        "knn.fit(X_trainkNN, y_trainkNN)\n",
        "knn_predict = knn.predict(X_testkNN)\n",
        "end = time.time()\n",
        "mse = mean_squared_error(y_testkNN,knn_predict)\n",
        "exe_times.append(end-start)\n",
        "errors.append(mse)\n",
        "print(f'MSE 3 nn = {mse}')\n",
        "print(f'excution time: {end-start:.4e} \\n---------')\n",
        "######################################\n",
        "knn=KNeighborsRegressor(n_neighbors=5)\n",
        "start = time.time()\n",
        "knn.fit(X_trainkNN, y_trainkNN)\n",
        "knn_predict = knn.predict(X_testkNN)\n",
        "end = time.time()\n",
        "mse = mean_squared_error(y_testkNN,knn_predict)\n",
        "exe_times.append(end-start)\n",
        "errors.append(mse)\n",
        "print(f'MSE 5 nn = {mse}')\n",
        "print(f'excution time: {end-start:.4e} \\n---------')\n",
        "######################################\n",
        "knn=KNeighborsRegressor(n_neighbors=8)\n",
        "start = time.time()\n",
        "knn.fit(X_trainkNN, y_trainkNN)\n",
        "knn_predict = knn.predict(X_testkNN)\n",
        "end = time.time()\n",
        "mse = mean_squared_error(y_testkNN,knn_predict)\n",
        "exe_times.append(end-start)\n",
        "errors.append(mse)\n",
        "print(f'MSE 8 nn = {mse}')\n",
        "print(f'excution time: {end-start:.4e} \\n---------')\n",
        "#####################################\n",
        "knn=KNeighborsRegressor(n_neighbors=10)\n",
        "start = time.time()\n",
        "knn.fit(X_trainkNN, y_trainkNN)\n",
        "knn_predict = knn.predict(X_testkNN)\n",
        "end = time.time()\n",
        "mse = mean_squared_error(y_testkNN,knn_predict)\n",
        "exe_times.append(end-start)\n",
        "errors.append(mse)\n",
        "print(f'MSE 10 nn = {mse}')\n",
        "print(f'excution time: {end-start:.4e} \\n---------')\n",
        "#####################################\n",
        "knn=KNeighborsRegressor(n_neighbors=13)\n",
        "start = time.time()\n",
        "knn.fit(X_trainkNN, y_trainkNN)\n",
        "knn_predict = knn.predict(X_testkNN)\n",
        "end = time.time()\n",
        "mse = mean_squared_error(y_testkNN,knn_predict)\n",
        "exe_times.append(end-start)\n",
        "errors.append(mse)\n",
        "print(f'MSE 13 nn = {mse}')\n",
        "print(f'excution time: {end-start:.4e} \\n---------')\n",
        "#####################################\n",
        "knn=KNeighborsRegressor(n_neighbors=15)\n",
        "start = time.time()\n",
        "knn.fit(X_trainkNN, y_trainkNN)\n",
        "knn_predict = knn.predict(X_testkNN)\n",
        "end = time.time()\n",
        "mse = mean_squared_error(y_testkNN,knn_predict)\n",
        "exe_times.append(end-start)\n",
        "errors.append(mse)\n",
        "print(f'MSE 15 nn = {mse}')\n",
        "print(f'excution time: {end-start:.4e} \\n---------')\n",
        "#####################################"
      ],
      "metadata": {
        "colab": {
          "base_uri": "https://localhost:8080/"
        },
        "id": "ZkTm_NzKhDIF",
        "outputId": "18e8b616-7dbd-450c-93f4-e1e2923ef96e"
      },
      "execution_count": 12,
      "outputs": [
        {
          "output_type": "stream",
          "name": "stdout",
          "text": [
            "MSE 3 nn = 226612.5274399765\n",
            "excution time: 5.0353e-02 \n",
            "---------\n",
            "MSE 5 nn = 227566.15725492314\n",
            "excution time: 8.2417e-03 \n",
            "---------\n",
            "MSE 8 nn = 228116.69912404302\n",
            "excution time: 7.2803e-03 \n",
            "---------\n",
            "MSE 10 nn = 228429.83672195766\n",
            "excution time: 6.1743e-03 \n",
            "---------\n",
            "MSE 13 nn = 228523.45627376653\n",
            "excution time: 6.0892e-03 \n",
            "---------\n",
            "MSE 15 nn = 228645.48127414938\n",
            "excution time: 6.8102e-03 \n",
            "---------\n"
          ]
        }
      ]
    },
    {
      "cell_type": "code",
      "source": [
        "plt.figure(figsize=(5,5))\n",
        "plt.bar(['3','5','8','10','13','15'],exe_times)\n",
        "plt.legend()\n",
        "plt.show()\n",
        "plt.bar(['3','5','8','10','13','15'],errors)\n",
        "plt.legend()\n",
        "plt.show()"
      ],
      "metadata": {
        "colab": {
          "base_uri": "https://localhost:8080/",
          "height": 913
        },
        "id": "gzjC70a8j4F9",
        "outputId": "ef45e16c-d067-445c-8e81-40ba407435c9"
      },
      "execution_count": 13,
      "outputs": [
        {
          "output_type": "stream",
          "name": "stderr",
          "text": [
            "WARNING:matplotlib.legend:No artists with labels found to put in legend.  Note that artists whose label start with an underscore are ignored when legend() is called with no argument.\n"
          ]
        },
        {
          "output_type": "display_data",
          "data": {
            "text/plain": [
              "<Figure size 500x500 with 1 Axes>"
            ],
            "image/png": "[encoded data removed]"
          },
          "metadata": {}
        },
        {
          "output_type": "stream",
          "name": "stderr",
          "text": [
            "WARNING:matplotlib.legend:No artists with labels found to put in legend.  Note that artists whose label start with an underscore are ignored when legend() is called with no argument.\n"
          ]
        },
        {
          "output_type": "display_data",
          "data": {
            "text/plain": [
              "<Figure size 640x480 with 1 Axes>"
            ],
            "image/png": "[encoded data removed]"
          },
          "metadata": {}
        }
      ]
    },
    {
      "cell_type": "markdown",
      "metadata": {
        "id": "LM-8EpQxC1s7"
      },
      "source": [
        "#Kernel Ridge Regression"
      ]
    },
    {
      "cell_type": "code",
      "execution_count": 14,
      "metadata": {
        "id": "9-BfO4mfGLpq"
      },
      "outputs": [],
      "source": [
        "X_trainker = X_train\n",
        "X_testker = X_test\n",
        "y_trainker = X_trainker['Salary']\n",
        "y_testker = X_testker['Salary']\n",
        "#DROP Salary before prediction!\n",
        "X_trainker = X_trainker.drop(columns = 'Salary')\n",
        "X_testker = X_testker.drop(columns = 'Salary')"
      ]
    },
    {
      "cell_type": "code",
      "source": [
        "coefs = []\n",
        "exe_times = []\n",
        "errors = []\n",
        "####################################\n",
        "klr = KernelRidge(alpha = 2, kernel='poly',degree=1,gamma = 1, coef0=1E-6)\n",
        "start = time.time()\n",
        "klr.fit(X_trainker,y_trainker)\n",
        "klr_predict = klr.predict(X_testker)\n",
        "end = time.time()\n",
        "mse = mean_squared_error(y_testker,klr_predict)\n",
        "exe_times.append(end-start)\n",
        "errors.append(mse)\n",
        "print(f'MSE = {mse}')\n",
        "print(f'excution time: {end-start:.4e} \\n---------')\n",
        "coefs.append(klr.dual_coef_)\n",
        "####################################\n",
        "klr = KernelRidge(alpha = 2, kernel='poly',degree=2,gamma = 1, coef0=1E-6)\n",
        "start = time.time()\n",
        "klr.fit(X_trainker,y_trainker)\n",
        "klr_predict = klr.predict(X_testker)\n",
        "end = time.time()\n",
        "mse = mean_squared_error(y_testker,klr_predict)\n",
        "exe_times.append(end-start)\n",
        "errors.append(mse)\n",
        "print(f'MSE = {mse}')\n",
        "print(f'excution time: {end-start:.4e} \\n---------')\n",
        "coefs.append(klr.dual_coef_)\n",
        "####################################\n",
        "klr = KernelRidge(alpha = 1, kernel='poly',degree=1,gamma = 1, coef0=1E-6)\n",
        "start = time.time()\n",
        "klr.fit(X_trainker,y_trainker)\n",
        "klr_predict = klr.predict(X_testker)\n",
        "end = time.time()\n",
        "mse = mean_squared_error(y_testker,klr_predict)\n",
        "exe_times.append(end-start)\n",
        "errors.append(mse)\n",
        "print(f'MSE = {mse}')\n",
        "print(f'excution time: {end-start:.4e} \\n---------')\n",
        "coefs.append(klr.dual_coef_)"
      ],
      "metadata": {
        "colab": {
          "base_uri": "https://localhost:8080/"
        },
        "id": "faFu0E5clHaS",
        "outputId": "bf957232-b09f-4fbf-cc2b-03b14294c13a"
      },
      "execution_count": 15,
      "outputs": [
        {
          "output_type": "stream",
          "name": "stdout",
          "text": [
            "MSE = 78627.73843933112\n",
            "excution time: 1.9310e-02 \n",
            "---------\n",
            "MSE = 3812754042.310118\n",
            "excution time: 1.1657e-02 \n",
            "---------\n",
            "MSE = 82372.02186983108\n",
            "excution time: 2.2314e-02 \n",
            "---------\n"
          ]
        }
      ]
    },
    {
      "cell_type": "code",
      "source": [
        "plt.figure(figsize=(5,5))\n",
        "plt.bar(['a = 2, d = 1', 'a = 2, d = 2', 'a = 1 d = 1'],exe_times)\n",
        "plt.legend()\n",
        "plt.show()\n",
        "plt.bar(['a = 2, d = 1', 'a = 2, d = 2', 'a = 1 d = 1'],errors)\n",
        "plt.legend()\n",
        "plt.show()\n",
        "plt.bar(['a = 1','a = 2'],[errors[2], errors[0]])\n",
        "plt.legend()\n",
        "plt.show()"
      ],
      "metadata": {
        "colab": {
          "base_uri": "https://localhost:8080/",
          "height": 1000
        },
        "id": "glgVBLAZzzfe",
        "outputId": "05dd9bb1-bb1b-45cd-e6a2-e57de1e9f9ff"
      },
      "execution_count": 16,
      "outputs": [
        {
          "output_type": "stream",
          "name": "stderr",
          "text": [
            "WARNING:matplotlib.legend:No artists with labels found to put in legend.  Note that artists whose label start with an underscore are ignored when legend() is called with no argument.\n"
          ]
        },
        {
          "output_type": "display_data",
          "data": {
            "text/plain": [
              "<Figure size 500x500 with 1 Axes>"
            ],
            "image/png": "[encoded data removed]"
          },
          "metadata": {}
        },
        {
          "output_type": "stream",
          "name": "stderr",
          "text": [
            "WARNING:matplotlib.legend:No artists with labels found to put in legend.  Note that artists whose label start with an underscore are ignored when legend() is called with no argument.\n"
          ]
        },
        {
          "output_type": "display_data",
          "data": {
            "text/plain": [
              "<Figure size 640x480 with 1 Axes>"
            ],
            "image/png": "[encoded data removed]"
          },
          "metadata": {}
        },
        {
          "output_type": "stream",
          "name": "stderr",
          "text": [
            "WARNING:matplotlib.legend:No artists with labels found to put in legend.  Note that artists whose label start with an underscore are ignored when legend() is called with no argument.\n"
          ]
        },
        {
          "output_type": "display_data",
          "data": {
            "text/plain": [
              "<Figure size 640x480 with 1 Axes>"
            ],
            "image/png": "[encoded data removed]"
          },
          "metadata": {}
        }
      ]
    },
    {
      "cell_type": "markdown",
      "metadata": {
        "id": "D-NLRvEvXff0"
      },
      "source": [
        "#SVM (Regressor)"
      ]
    },
    {
      "cell_type": "code",
      "execution_count": 27,
      "metadata": {
        "id": "qsw70rCiYjhr"
      },
      "outputs": [],
      "source": [
        "#Using your provided plotting functions\n",
        "def margin_cal(X):\n",
        "    margin = 0.5\n",
        "    xmin = min(X[:,0])-margin\n",
        "    xmax = max(X[:,0])+margin\n",
        "    ymin = min(X[:,1])-margin\n",
        "    ymax = max(X[:,1])+margin\n",
        "    return xmin, xmax, ymin, ymax\n",
        "\n",
        "def data_plot(X, y):\n",
        "    plt.scatter(X[y==-1][:,0], X[y==-1][:,1], color='red', label='y=-1')\n",
        "    plt.scatter(X[y==1][:,0], X[y==1][:,1], color='blue', label='y=1')\n",
        "    plt.xlabel('x1')\n",
        "    plt.ylabel('x2')\n",
        "    plt.legend()\n",
        "    xmin, xmax, ymin, ymax = margin_cal(X)\n",
        "    plt.xlim(xmin,xmax)\n",
        "    plt.ylim(ymin,ymax)\n",
        "\n",
        "def svm_plot(w,b,X,y):\n",
        "    x_ = np.arange(-3,3.5,0.1)\n",
        "    u = np.array([b, b+1, b-1, w[0], w[1]])#/np.linalg.norm([w1,w2])\n",
        "    ##hyperplane in original space\n",
        "    u_sb, u_sx = -u[0]/u[4], -u[3]/u[4]\n",
        "    u_sb_u, u_sb_d = -u[1]/u[4], -u[2]/u[4]\n",
        "\n",
        "    x2_s = x_*u_sx + u_sb\n",
        "    x2_su = x_*u_sx + u_sb_u\n",
        "    x2_sd = x_*u_sx + u_sb_d\n",
        "\n",
        "    data_plot(X, y)\n",
        "    plt.plot(x_, x2_s, color='green')\n",
        "    plt.plot(x_, x2_su, color='green', linestyle='--')\n",
        "    plt.plot(x_, x2_sd, color='green', linestyle='--')"
      ]
    },
    {
      "cell_type": "code",
      "execution_count": 28,
      "metadata": {
        "id": "LhAMpNQdaffo"
      },
      "outputs": [],
      "source": [
        "X_trainSVM = X_train\n",
        "X_testSVM = X_test\n",
        "y_trainSVM = X_trainSVM['Salary']\n",
        "y_testSVM = X_testSVM['Salary']\n",
        "#DROP Salary before prediction!\n",
        "X_trainSVM = X_trainSVM.drop(columns = 'Salary')\n",
        "X_testSVM = X_testSVM.drop(columns = 'Salary')\n",
        "errors = []\n",
        "exe_times = []"
      ]
    },
    {
      "cell_type": "code",
      "execution_count": 29,
      "metadata": {
        "colab": {
          "base_uri": "https://localhost:8080/"
        },
        "id": "23IxlQ9Hacni",
        "outputId": "ad481942-da37-4159-9c23-e0ff3dd6d170"
      },
      "outputs": [
        {
          "output_type": "stream",
          "name": "stdout",
          "text": [
            "MSE = 2427072.0202950113\n",
            "excution time: 1.6321e+02 \n",
            "---------\n",
            "MSE = 9190664.067675311\n",
            "excution time: 1.3985e+02 \n",
            "---------\n"
          ]
        }
      ],
      "source": [
        "from sklearn.svm import SVR\n",
        "\n",
        "svm = SVR(kernel='linear', C=1E5)\n",
        "start = time.time()\n",
        "svm.fit(X_trainSVM,y_trainSVM)\n",
        "y_pred = svm.predict(X_testSVM)\n",
        "end = time.time()\n",
        "mse = mean_squared_error(y_testSVM,y_pred)\n",
        "exe_times.append(end-start)\n",
        "errors.append(mse)\n",
        "print(f'MSE = {mse}')\n",
        "print(f'excution time: {end-start:.4e} \\n---------')\n",
        "###############################################################\n",
        "svm = SVR(kernel='linear', C=2E5)\n",
        "start = time.time()\n",
        "svm.fit(X_trainSVM,y_trainSVM)\n",
        "y_pred = svm.predict(X_testSVM)\n",
        "end = time.time()\n",
        "mse = mean_squared_error(y_testSVM,y_pred)\n",
        "exe_times.append(end-start)\n",
        "errors.append(mse)\n",
        "print(f'MSE = {mse}')\n",
        "print(f'excution time: {end-start:.4e} \\n---------')\n",
        "###############################################################"
      ]
    },
    {
      "cell_type": "code",
      "source": [
        "svm = SVR(kernel='poly', C=1E5)\n",
        "start = time.time()\n",
        "svm.fit(X_trainSVM,y_trainSVM)\n",
        "y_pred = svm.predict(X_testSVM)\n",
        "end = time.time()\n",
        "mse = mean_squared_error(y_testSVM,y_pred)\n",
        "exe_times.append(end-start)\n",
        "errors.append(mse)\n",
        "print(f'MSE = {mse}')\n",
        "print(f'excution time: {end-start:.4e} \\n---------')\n",
        "###############################################################\n",
        "svm = SVR(kernel='poly', C=2E5)\n",
        "start = time.time()\n",
        "svm.fit(X_trainSVM,y_trainSVM)\n",
        "y_pred = svm.predict(X_testSVM)\n",
        "end = time.time()\n",
        "mse = mean_squared_error(y_testSVM,y_pred)\n",
        "exe_times.append(end-start)\n",
        "errors.append(mse)\n",
        "print(f'MSE = {mse}')\n",
        "print(f'excution time: {end-start:.4e} \\n---------')\n",
        "###############################################################"
      ],
      "metadata": {
        "colab": {
          "base_uri": "https://localhost:8080/"
        },
        "id": "R9iBklDN2HuM",
        "outputId": "de895bf9-7afd-4091-bcd5-f62a601a3344"
      },
      "execution_count": 30,
      "outputs": [
        {
          "output_type": "stream",
          "name": "stdout",
          "text": [
            "MSE = 693548878484.7078\n",
            "excution time: 4.0754e+01 \n",
            "---------\n",
            "MSE = 737017713173.4213\n",
            "excution time: 7.6495e+01 \n",
            "---------\n"
          ]
        }
      ]
    },
    {
      "cell_type": "code",
      "source": [
        "svm = SVR(kernel='sigmoid', C=1E5)\n",
        "start = time.time()\n",
        "svm.fit(X_trainSVM,y_trainSVM)\n",
        "y_pred = svm.predict(X_testSVM)\n",
        "end = time.time()\n",
        "mse = mean_squared_error(y_testSVM,y_pred)\n",
        "exe_times.append(end-start)\n",
        "errors.append(mse)\n",
        "print(f'MSE = {mse}')\n",
        "print(f'excution time: {end-start:.4e} \\n---------')\n",
        "###############################################################\n",
        "svm = SVR(kernel='sigmoid', C=2E5)\n",
        "start = time.time()\n",
        "svm.fit(X_trainSVM,y_trainSVM)\n",
        "y_pred = svm.predict(X_testSVM)\n",
        "end = time.time()\n",
        "mse = mean_squared_error(y_testSVM,y_pred)\n",
        "exe_times.append(end-start)\n",
        "errors.append(mse)\n",
        "print(f'MSE = {mse}')\n",
        "print(f'excution time: {end-start:.4e} \\n---------')\n",
        "###############################################################\n",
        "svm = SVR(kernel='sigmoid', C=3E5)\n",
        "start = time.time()\n",
        "svm.fit(X_trainSVM,y_trainSVM)\n",
        "y_pred = svm.predict(X_testSVM)\n",
        "end = time.time()\n",
        "mse = mean_squared_error(y_testSVM,y_pred)\n",
        "exe_times.append(end-start)\n",
        "errors.append(mse)\n",
        "print(f'MSE = {mse}')\n",
        "print(f'excution time: {end-start:.4e} \\n---------')\n",
        "###############################################################"
      ],
      "metadata": {
        "colab": {
          "base_uri": "https://localhost:8080/"
        },
        "id": "G2apNGvW2M_D",
        "outputId": "9a032b92-2951-44fd-b45f-1d7d2a54755a"
      },
      "execution_count": 31,
      "outputs": [
        {
          "output_type": "stream",
          "name": "stdout",
          "text": [
            "MSE = 861985863284.7885\n",
            "excution time: 1.2792e-02 \n",
            "---------\n",
            "MSE = 3446347373461.9077\n",
            "excution time: 9.1057e-03 \n",
            "---------\n",
            "MSE = 7753084769297.953\n",
            "excution time: 1.1805e-02 \n",
            "---------\n"
          ]
        }
      ]
    },
    {
      "cell_type": "code",
      "source": [
        "svm = SVR(kernel='rbf', C=1E5)\n",
        "start = time.time()\n",
        "svm.fit(X_trainSVM,y_trainSVM)\n",
        "y_pred = svm.predict(X_testSVM)\n",
        "end = time.time()\n",
        "mse = mean_squared_error(y_testSVM,y_pred)\n",
        "exe_times.append(end-start)\n",
        "errors.append(mse)\n",
        "print(f'MSE = {mse}')\n",
        "print(f'excution time: {end-start:.4e} \\n---------')\n",
        "###############################################################\n",
        "svm = SVR(kernel='rbf', C=2E5)\n",
        "start = time.time()\n",
        "svm.fit(X_trainSVM,y_trainSVM)\n",
        "y_pred = svm.predict(X_testSVM)\n",
        "end = time.time()\n",
        "mse = mean_squared_error(y_testSVM,y_pred)\n",
        "exe_times.append(end-start)\n",
        "errors.append(mse)\n",
        "print(f'MSE = {mse}')\n",
        "print(f'excution time: {end-start:.4e} \\n---------')\n",
        "###############################################################\n",
        "svm = SVR(kernel='rbf', C=3E5)\n",
        "start = time.time()\n",
        "svm.fit(X_trainSVM,y_trainSVM)\n",
        "y_pred = svm.predict(X_testSVM)\n",
        "end = time.time()\n",
        "mse = mean_squared_error(y_testSVM,y_pred)\n",
        "exe_times.append(end-start)\n",
        "errors.append(mse)\n",
        "print(f'MSE = {mse}')\n",
        "print(f'excution time: {end-start:.4e} \\n---------')\n",
        "###############################################################\n",
        "svm = SVR(kernel='rbf', C=4E5)\n",
        "start = time.time()\n",
        "svm.fit(X_trainSVM,y_trainSVM)\n",
        "y_pred = svm.predict(X_testSVM)\n",
        "end = time.time()\n",
        "mse = mean_squared_error(y_testSVM,y_pred)\n",
        "exe_times.append(end-start)\n",
        "errors.append(mse)\n",
        "print(f'MSE = {mse}')\n",
        "print(f'excution time: {end-start:.4e} \\n---------')\n",
        "###############################################################\n",
        "svm = SVR(kernel='rbf', C=1E4)\n",
        "start = time.time()\n",
        "svm.fit(X_trainSVM,y_trainSVM)\n",
        "y_pred = svm.predict(X_testSVM)\n",
        "end = time.time()\n",
        "mse = mean_squared_error(y_testSVM,y_pred)\n",
        "exe_times.append(end-start)\n",
        "errors.append(mse)\n",
        "print(f'MSE = {mse}')\n",
        "print(f'excution time: {end-start:.4e} \\n---------')\n",
        "###############################################################\n",
        "svm = SVR(kernel='rbf', C=1E3)\n",
        "start = time.time()\n",
        "svm.fit(X_trainSVM,y_trainSVM)\n",
        "y_pred = svm.predict(X_testSVM)\n",
        "end = time.time()\n",
        "mse = mean_squared_error(y_testSVM,y_pred)\n",
        "exe_times.append(end-start)\n",
        "errors.append(mse)\n",
        "print(f'MSE = {mse}')\n",
        "print(f'excution time: {end-start:.4e} \\n---------')\n",
        "###############################################################"
      ],
      "metadata": {
        "colab": {
          "base_uri": "https://localhost:8080/"
        },
        "id": "HdFecb0g2yma",
        "outputId": "8745ac63-98f9-483f-af59-dd2c41f8e4ef"
      },
      "execution_count": 32,
      "outputs": [
        {
          "output_type": "stream",
          "name": "stdout",
          "text": [
            "MSE = 162284.87517598848\n",
            "excution time: 1.4804e+00 \n",
            "---------\n",
            "MSE = 174778.28588506908\n",
            "excution time: 1.9218e+00 \n",
            "---------\n",
            "MSE = 175150.56628621576\n",
            "excution time: 2.0523e+00 \n",
            "---------\n",
            "MSE = 173501.3366710931\n",
            "excution time: 1.9442e+00 \n",
            "---------\n",
            "MSE = 222630.36382281958\n",
            "excution time: 1.6986e-01 \n",
            "---------\n",
            "MSE = 230697.92813268356\n",
            "excution time: 2.9490e-02 \n",
            "---------\n"
          ]
        }
      ]
    },
    {
      "cell_type": "code",
      "source": [
        "plt.figure(figsize=(5,5))\n",
        "plt.bar(['linearc1', 'linearc2','polyc1', 'polyc2', 'sigmoidc1', 'sigmoid c2', 'sigmoid c3', 'rbfc1', 'rbfc2','rbfc3','rbfc4','rbfe4','rbfe3'],exe_times)\n",
        "plt.legend()\n",
        "plt.show()\n",
        "plt.bar(['linearc1', 'linearc2','polyc1', 'polyc2', 'sigmoidc1', 'sigmoid c2', 'sigmoid c3', 'rbfc1', 'rbfc2','rbfc3','rbfc4','rbfe4','rbfe3'],errors)\n",
        "plt.legend()\n",
        "plt.show()\n",
        "plt.bar(['rbfc1', 'rbfc2','rbfc3','rbfc4','rbfe4','rbfe3'],exe_times[7:])\n",
        "plt.legend()\n",
        "plt.show()\n",
        "plt.bar(['rbfc1', 'rbfc2','rbfc3','rbfc4','rbfe4','rbfe3'],errors[7:])\n",
        "plt.legend()\n",
        "plt.show()\n"
      ],
      "metadata": {
        "colab": {
          "base_uri": "https://localhost:8080/",
          "height": 1000
        },
        "id": "UNt0S2shPYEc",
        "outputId": "7390e48c-1c9f-4281-909d-d03d63e909ed"
      },
      "execution_count": 35,
      "outputs": [
        {
          "output_type": "stream",
          "name": "stderr",
          "text": [
            "WARNING:matplotlib.legend:No artists with labels found to put in legend.  Note that artists whose label start with an underscore are ignored when legend() is called with no argument.\n"
          ]
        },
        {
          "output_type": "display_data",
          "data": {
            "text/plain": [
              "<Figure size 500x500 with 1 Axes>"
            ],
            "image/png": "[encoded data removed]"
          },
          "metadata": {}
        },
        {
          "output_type": "stream",
          "name": "stderr",
          "text": [
            "WARNING:matplotlib.legend:No artists with labels found to put in legend.  Note that artists whose label start with an underscore are ignored when legend() is called with no argument.\n"
          ]
        },
        {
          "output_type": "display_data",
          "data": {
            "text/plain": [
              "<Figure size 640x480 with 1 Axes>"
            ],
            "image/png": "[encoded data removed]"
          },
          "metadata": {}
        },
        {
          "output_type": "stream",
          "name": "stderr",
          "text": [
            "WARNING:matplotlib.legend:No artists with labels found to put in legend.  Note that artists whose label start with an underscore are ignored when legend() is called with no argument.\n"
          ]
        },
        {
          "output_type": "display_data",
          "data": {
            "text/plain": [
              "<Figure size 640x480 with 1 Axes>"
            ],
            "image/png": "[encoded data removed]"
          },
          "metadata": {}
        },
        {
          "output_type": "stream",
          "name": "stderr",
          "text": [
            "WARNING:matplotlib.legend:No artists with labels found to put in legend.  Note that artists whose label start with an underscore are ignored when legend() is called with no argument.\n"
          ]
        },
        {
          "output_type": "display_data",
          "data": {
            "text/plain": [
              "<Figure size 640x480 with 1 Axes>"
            ],
            "image/png": "[encoded data removed]"
          },
          "metadata": {}
        }
      ]
    }
  ],
  "metadata": {
    "colab": {
      "provenance": []
    },
    "kernelspec": {
      "display_name": "Python 3",
      "name": "python3"
    },
    "language_info": {
      "name": "python"
    }
  },
  "nbformat": 4,
  "nbformat_minor": 0
}