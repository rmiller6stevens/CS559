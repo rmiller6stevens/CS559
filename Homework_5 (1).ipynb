{
  "cells": [
    {
      "cell_type": "markdown",
      "metadata": {
        "id": "gf7umQc33eq6"
      },
      "source": [
        "#Robert Miller\n",
        "#I pledge my honor that I have abided by the Stevens Honor System"
      ]
    },
    {
      "cell_type": "markdown",
      "metadata": {
        "id": "L_31fz68fJQX"
      },
      "source": [
        "#Unsupervised Learning"
      ]
    },
    {
      "cell_type": "code",
      "execution_count": 61,
      "metadata": {
        "id": "pdDrqgdZ3g-I"
      },
      "outputs": [],
      "source": [
        "import numpy as np\n",
        "import pandas as pd\n",
        "from sklearn.model_selection import train_test_split"
      ]
    },
    {
      "cell_type": "code",
      "execution_count": 68,
      "metadata": {
        "colab": {
          "base_uri": "https://localhost:8080/"
        },
        "id": "tuQfqpKW4NpK",
        "outputId": "8e6b4bf2-95b7-4712-c4b0-d78cb2c86931"
      },
      "outputs": [
        {
          "output_type": "stream",
          "name": "stdout",
          "text": [
            "     cylinders  displacement  horsepower  weight  acceleration  model-year\n",
            "0            8             4           4       3             1          70\n",
            "1            8             4           4       4             1          70\n",
            "2            8             4           4       3             1          70\n",
            "3            8             4           4       3             1          70\n",
            "4            8             4           4       3             1          70\n",
            "..         ...           ...         ...     ...           ...         ...\n",
            "393          4             2           3       2             3          82\n",
            "394          4             1           3       1             4          82\n",
            "395          4             2           3       2             1          82\n",
            "396          4             2           3       2             4          82\n",
            "397          4             2           3       2             4          82\n",
            "\n",
            "[398 rows x 6 columns]\n"
          ]
        }
      ],
      "source": [
        "df = pd.read_csv('autompg.csv')\n",
        "#row 32 and 126 have no stated HorsePower,so I am going to fill it in with the mean.\n",
        "df['horsepower'] = df['horsepower'].fillna(df['horsepower'].mean())\n",
        "#cylinders and model-year are already ordinal, so no processing is needed\n",
        "# print(np.percentile(df['horsepower'],0.25))\n",
        "# print(np.percentile(df['horsepower'],0.5))\n",
        "# print(np.quantile(df['horsepower'],0.75))\n",
        "df['mpg'] = df['mpg'].map(lambda x: 0 if x < 19 else 1 if x < 26.6 else 2)\n",
        "df['displacement'] = df['displacement'].map(lambda x: 1 if x < 104.25 else 2 if x < 148.5 else 3 if x < 262 else 4)\n",
        "df['weight'] = df['weight'].map(lambda x: 1 if x < 2223.75 else 2 if x < 2803.5 else 3 if x < 3608 else 4)\n",
        "df['acceleration'] = df['acceleration'].map(lambda x: 1 if x < 13.825 else 2 if x < 15.5 else 3 if x < 17.175 else 4)\n",
        "df['horsepower'] = df['horsepower'].map(lambda x: 1 if x < 46 else 2 if x < 47.97 else 3 if x < 125 else 4)\n",
        "y = df['mpg'] #Target\n",
        "df = df.drop(columns = 'mpg')\n",
        "print(df)"
      ]
    },
    {
      "cell_type": "code",
      "execution_count": 69,
      "metadata": {
        "id": "Wdt7BgJKjbhI"
      },
      "outputs": [],
      "source": [
        " #Implement myKMean\n",
        "def myKmean(X, k, iter):\n",
        "  #This is completely unnecessary for the homework code, but I want to include it just for completeness.\n",
        "  if k == 0 or k == 1:\n",
        "    print('You must have at least 2 clusters')\n",
        "    return -1\n",
        "  #First, assign a label randomly\n",
        "  X['labels'] = np.random.randint(k,size = len(X))\n",
        "  #Next, initialize the Centroids for each observation\n",
        "  centroids = []\n",
        "  #We want DISTINCT Choices, so to prevent duplicates I'm adding a list that contains already chosen indicies\n",
        "  for i in range(k):\n",
        "    X_current = (X[X['labels'] == i])\n",
        "    X_current = X_current.drop(columns = 'labels') #WE DONT NEED THESE AFTER ASSIGNING SINCE WE DID THIS FOR INITIALIZATION\n",
        "    centroids.append(np.mean(X_current, axis = 0))\n",
        " #repeat the next steps -  assign each observation to the cluster whos centroid is closer, then compute the cluster's new centroid\n",
        "  #This is the reverse of the algorithm in the slides, however since I randomly assigned the clusters already we are actually on step 2\n",
        "  #calculate the distance now,\n",
        "  for t in range(iter):\n",
        "    labels = []\n",
        "    X = X.drop(columns = 'labels')\n",
        "    for i in range(len(X)):\n",
        "      min_i = 0 #keep track of the index for the label\n",
        "      min = abs(np.linalg.norm(centroids[0] - X.loc[i]))\n",
        "      for j in range(len(centroids)):\n",
        "        distance = abs(np.linalg.norm(centroids[j] - X.loc[i]))\n",
        "        if distance < min:\n",
        "          min_i = j\n",
        "          min = distance\n",
        "      labels.append(min_i)\n",
        "    X['labels'] = labels\n",
        "    #This labels the observation to the closest cluster\n",
        "    new_centroids = []\n",
        "    for n in range(k):\n",
        "      X_current = (X[X['labels'] == n])\n",
        "      X_current = X_current.drop(columns = 'labels')\n",
        "      new_centroids.append((np.mean(X_current, axis = 0)))\n",
        "    check = True\n",
        "    for p in range(len(new_centroids)):\n",
        "      if not new_centroids[p].equals(centroids[p]):\n",
        "        check = False\n",
        "    if check:\n",
        "      break\n",
        "    centroids = new_centroids\n",
        "  #Calculate the Variance here\n",
        "  variances_agg = 0\n",
        "  for v in range(k):\n",
        "    CK = X[X['labels'] == n]\n",
        "    if len(CK) == 0:\n",
        "       continue\n",
        "    variances_agg = variances_agg + ((1/len(CK)) *abs(np.sum(CK - centroids[v])))\n",
        "  total_variance = variances_agg / len(X)\n",
        "  return X, total_variance"
      ]
    },
    {
      "cell_type": "code",
      "execution_count": 70,
      "metadata": {
        "colab": {
          "base_uri": "https://localhost:8080/"
        },
        "id": "MXvboiOLSAOl",
        "outputId": "a8c3c2fb-08e1-4cd3-ce0f-87ffd3be6f95"
      },
      "outputs": [
        {
          "output_type": "stream",
          "name": "stderr",
          "text": [
            "/usr/local/lib/python3.10/dist-packages/numpy/core/fromnumeric.py:86: FutureWarning: The behavior of DataFrame.sum with axis=None is deprecated, in a future version this will reduce over both axes and return a scalar. To retain the old behavior, pass axis=0 (or do not pass axis)\n",
            "  return reduction(axis=axis, out=out, **passkwargs)\n"
          ]
        },
        {
          "output_type": "stream",
          "name": "stdout",
          "text": [
            "     cylinders  displacement  horsepower  weight  acceleration  model-year  \\\n",
            "0            8             4           4       3             1          70   \n",
            "1            8             4           4       4             1          70   \n",
            "2            8             4           4       3             1          70   \n",
            "3            8             4           4       3             1          70   \n",
            "4            8             4           4       3             1          70   \n",
            "..         ...           ...         ...     ...           ...         ...   \n",
            "393          4             2           3       2             3          82   \n",
            "394          4             1           3       1             4          82   \n",
            "395          4             2           3       2             1          82   \n",
            "396          4             2           3       2             4          82   \n",
            "397          4             2           3       2             4          82   \n",
            "\n",
            "     labels  \n",
            "0         0  \n",
            "1         0  \n",
            "2         0  \n",
            "3         0  \n",
            "4         0  \n",
            "..      ...  \n",
            "393       1  \n",
            "394       1  \n",
            "395       1  \n",
            "396       1  \n",
            "397       1  \n",
            "\n",
            "[398 rows x 7 columns]\n",
            "acceleration    0.001494\n",
            "cylinders       0.009439\n",
            "displacement    0.005900\n",
            "horsepower      0.001443\n",
            "labels          0.000000\n",
            "model-year      0.018737\n",
            "weight          0.006424\n",
            "dtype: float64\n"
          ]
        },
        {
          "output_type": "stream",
          "name": "stderr",
          "text": [
            "/usr/local/lib/python3.10/dist-packages/numpy/core/fromnumeric.py:86: FutureWarning: The behavior of DataFrame.sum with axis=None is deprecated, in a future version this will reduce over both axes and return a scalar. To retain the old behavior, pass axis=0 (or do not pass axis)\n",
            "  return reduction(axis=axis, out=out, **passkwargs)\n"
          ]
        },
        {
          "output_type": "stream",
          "name": "stdout",
          "text": [
            "acceleration    0.009627\n",
            "cylinders       0.019051\n",
            "displacement    0.011513\n",
            "horsepower      0.005174\n",
            "labels          0.000000\n",
            "model-year      0.037922\n",
            "weight          0.010084\n",
            "dtype: float64\n"
          ]
        },
        {
          "output_type": "stream",
          "name": "stderr",
          "text": [
            "/usr/local/lib/python3.10/dist-packages/numpy/core/fromnumeric.py:86: FutureWarning: The behavior of DataFrame.sum with axis=None is deprecated, in a future version this will reduce over both axes and return a scalar. To retain the old behavior, pass axis=0 (or do not pass axis)\n",
            "  return reduction(axis=axis, out=out, **passkwargs)\n"
          ]
        },
        {
          "output_type": "stream",
          "name": "stdout",
          "text": [
            "acceleration    0.007635\n",
            "cylinders       0.019559\n",
            "displacement    0.012826\n",
            "horsepower      0.004526\n",
            "labels          0.000000\n",
            "model-year      0.045639\n",
            "weight          0.012059\n",
            "dtype: float64\n"
          ]
        },
        {
          "output_type": "stream",
          "name": "stderr",
          "text": [
            "/usr/local/lib/python3.10/dist-packages/numpy/core/fromnumeric.py:86: FutureWarning: The behavior of DataFrame.sum with axis=None is deprecated, in a future version this will reduce over both axes and return a scalar. To retain the old behavior, pass axis=0 (or do not pass axis)\n",
            "  return reduction(axis=axis, out=out, **passkwargs)\n"
          ]
        },
        {
          "output_type": "stream",
          "name": "stdout",
          "text": [
            "acceleration    0.017241\n",
            "cylinders       0.031888\n",
            "displacement    0.019187\n",
            "horsepower      0.008910\n",
            "labels          0.000000\n",
            "model-year      0.061430\n",
            "weight          0.017076\n",
            "dtype: float64\n"
          ]
        },
        {
          "output_type": "stream",
          "name": "stderr",
          "text": [
            "/usr/local/lib/python3.10/dist-packages/numpy/core/fromnumeric.py:86: FutureWarning: The behavior of DataFrame.sum with axis=None is deprecated, in a future version this will reduce over both axes and return a scalar. To retain the old behavior, pass axis=0 (or do not pass axis)\n",
            "  return reduction(axis=axis, out=out, **passkwargs)\n"
          ]
        },
        {
          "output_type": "stream",
          "name": "stdout",
          "text": [
            "acceleration    0.007442\n",
            "cylinders       0.022660\n",
            "displacement    0.014555\n",
            "horsepower      0.004443\n",
            "labels          0.000000\n",
            "model-year      0.059664\n",
            "weight          0.013837\n",
            "dtype: float64\n",
            "0.0\n",
            "acceleration    0.009918\n",
            "cylinders       0.026954\n",
            "displacement    0.017098\n",
            "horsepower      0.004707\n",
            "labels          0.000000\n",
            "model-year      0.086396\n",
            "weight          0.016239\n",
            "dtype: float64\n"
          ]
        },
        {
          "output_type": "stream",
          "name": "stderr",
          "text": [
            "/usr/local/lib/python3.10/dist-packages/numpy/core/fromnumeric.py:86: FutureWarning: The behavior of DataFrame.sum with axis=None is deprecated, in a future version this will reduce over both axes and return a scalar. To retain the old behavior, pass axis=0 (or do not pass axis)\n",
            "  return reduction(axis=axis, out=out, **passkwargs)\n"
          ]
        }
      ],
      "source": [
        "test_run, variance = myKmean(df, 3, 100)\n",
        "print(test_run)\n",
        "print(variance)\n",
        "df = df.drop(columns='labels')\n",
        "test_run, variance = myKmean(df, 4, 100)\n",
        "print(variance)\n",
        "df = df.drop(columns='labels')\n",
        "test_run, variance = myKmean(df, 5, 100)\n",
        "print(variance)\n",
        "df = df.drop(columns='labels')\n",
        "test_run, variance = myKmean(df, 6, 100)\n",
        "print(variance)\n",
        "df = df.drop(columns='labels')\n",
        "test_run, variance = myKmean(df, 8, 100)\n",
        "print(variance)\n",
        "df = df.drop(columns='labels')\n",
        "test_run, variance = myKmean(df, 10, 100)\n",
        "print(variance)\n",
        "df = df.drop(columns='labels')\n",
        "test_run, variance = myKmean(df, 15, 100)\n",
        "print(variance)\n",
        "df = df.drop(columns='labels')"
      ]
    },
    {
      "cell_type": "markdown",
      "metadata": {
        "id": "G09c2LafMWex"
      },
      "source": [
        "#D.\n",
        "(I am ignoring the labels variances, which are not being used as a metric but are still captured in how I calculated variance, so just ignore their inclusion its why its 0) The smallest variances across the board can be seen when k = 3, so I am going to select that as the best amount of clusters for this model. While I'd like to say that the total variance converges as k increases, which does happen, with higher values taking much more time k = 3 just works better for my purposes."
      ]
    },
    {
      "cell_type": "code",
      "execution_count": 71,
      "metadata": {
        "colab": {
          "base_uri": "https://localhost:8080/"
        },
        "id": "GBSqHtKlYATG",
        "outputId": "fdc9c449-09f3-49a2-96dd-46602f122209"
      },
      "outputs": [
        {
          "output_type": "stream",
          "name": "stderr",
          "text": [
            "/usr/local/lib/python3.10/dist-packages/numpy/core/fromnumeric.py:86: FutureWarning: The behavior of DataFrame.sum with axis=None is deprecated, in a future version this will reduce over both axes and return a scalar. To retain the old behavior, pass axis=0 (or do not pass axis)\n",
            "  return reduction(axis=axis, out=out, **passkwargs)\n"
          ]
        }
      ],
      "source": [
        "choose_3, variance = myKmean(df, 3, 100)\n",
        "df = df.drop(columns = 'labels')\n",
        "list_l = list(choose_3['labels'])"
      ]
    },
    {
      "cell_type": "code",
      "execution_count": 72,
      "metadata": {
        "id": "eecB95uiWxEe"
      },
      "outputs": [],
      "source": [
        "from sklearn.cluster import KMeans"
      ]
    },
    {
      "cell_type": "code",
      "execution_count": 73,
      "metadata": {
        "colab": {
          "base_uri": "https://localhost:8080/"
        },
        "id": "NSlxSpYNWVDf",
        "outputId": "31ded0f8-7145-4923-a18b-76078386aae3"
      },
      "outputs": [
        {
          "output_type": "stream",
          "name": "stdout",
          "text": [
            "[1 1 1 1 1 1 1 1 1 1 1 1 1 1 0 1 0 0 0 0 0 0 0 0 1 1 1 1 1 0 0 0 0 1 1 1 1\n",
            " 1 1 1 1 1 1 1 1 1 0 1 1 0 0 0 0 0 0 0 0 0 0 0 0 0 1 1 1 1 1 1 1 1 1 0 1 1\n",
            " 1 1 0 0 0 0 0 0 0 0 0 1 1 1 1 1 1 1 1 1 1 1 1 0 0 0 0 0 0 1 1 1 1 0 0 0 0\n",
            " 0 0 0 0 1 1 0 0 0 0 1 0 1 1 0 0 0 0 0 0 0 0 0 0 0 1 1 1 1 1 0 0 0 0 0 0 0\n",
            " 0 0 0 0 0 0 0 0 1 1 1 1 0 0 0 0 0 1 1 0 0 0 0 0 0 0 0 0 0 0 0 0 0 0 0 0 0\n",
            " 0 0 1 1 1 1 0 0 0 0 0 0 0 0 0 0 0 0 0 0 0 0 0 1 0 0 0 1 1 1 1 2 2 2 2 2 1\n",
            " 2 1 1 2 2 2 2 1 1 1 1 2 2 2 2 2 2 2 2 2 2 2 2 2 2 2 2 2 2 2 2 2 2 2 2 2 2\n",
            " 2 2 2 2 2 2 2 2 2 2 2 2 2 2 2 2 2 2 2 2 2 2 2 2 2 2 2 2 2 2 2 2 2 2 2 2 2\n",
            " 2 2 2 2 2 2 2 2 2 2 2 2 2 2 2 2 2 2 2 2 2 2 2 2 2 2 2 2 2 2 2 2 2 2 2 2 2\n",
            " 2 2 2 2 2 2 2 2 2 2 2 2 2 2 2 2 2 2 2 2 2 2 2 2 2 2 2 2 2 2 2 2 2 2 2 2 2\n",
            " 2 2 2 2 2 2 2 2 2 2 2 2 2 2 2 2 2 2 2 2 2 2 2 2 2 2 2 2]\n",
            "[1, 1, 1, 1, 1, 1, 1, 1, 1, 1, 1, 1, 1, 1, 1, 1, 1, 1, 1, 1, 1, 1, 1, 1, 1, 1, 1, 1, 1, 1, 1, 1, 1, 1, 1, 1, 1, 1, 1, 1, 1, 1, 1, 1, 1, 1, 1, 1, 1, 1, 1, 1, 1, 1, 1, 1, 1, 1, 1, 1, 1, 1, 2, 2, 2, 2, 2, 2, 2, 2, 2, 1, 2, 2, 2, 2, 1, 1, 1, 1, 1, 1, 1, 1, 1, 2, 2, 2, 2, 2, 2, 2, 2, 2, 2, 2, 2, 1, 1, 1, 1, 1, 1, 2, 2, 2, 2, 1, 1, 1, 1, 1, 1, 1, 1, 2, 2, 1, 1, 1, 1, 2, 1, 1, 2, 1, 1, 1, 1, 1, 1, 1, 1, 2, 2, 2, 2, 2, 2, 2, 2, 1, 1, 1, 1, 1, 1, 1, 1, 1, 1, 1, 2, 2, 2, 2, 2, 2, 2, 2, 2, 2, 2, 2, 2, 2, 2, 1, 1, 2, 1, 1, 1, 1, 2, 1, 2, 1, 1, 1, 1, 1, 0, 0, 0, 0, 0, 2, 2, 2, 2, 2, 2, 2, 2, 0, 0, 0, 0, 2, 2, 2, 2, 0, 0, 0, 0, 0, 2, 0, 2, 2, 2, 2, 2, 2, 0, 0, 0, 0, 0, 2, 2, 2, 2, 2, 2, 2, 2, 2, 2, 2, 2, 0, 0, 0, 0, 0, 0, 0, 0, 2, 0, 0, 0, 0, 0, 0, 0, 2, 2, 2, 0, 0, 0, 0, 0, 0, 0, 0, 0, 0, 2, 0, 2, 2, 0, 0, 0, 0, 0, 0, 0, 0, 0, 0, 0, 0, 0, 0, 0, 0, 0, 0, 0, 2, 2, 2, 2, 2, 2, 2, 2, 0, 0, 0, 0, 0, 2, 0, 0, 0, 0, 0, 0, 0, 0, 0, 0, 0, 0, 0, 0, 0, 0, 0, 0, 0, 0, 0, 0, 0, 0, 0, 0, 0, 0, 0, 0, 0, 0, 0, 0, 0, 0, 0, 0, 0, 0, 0, 0, 0, 0, 0, 0, 0, 0, 0, 0, 0, 0, 0, 0, 0, 0, 0, 0, 0, 0, 0, 0, 0, 0, 0, 0, 0, 0, 0, 0, 0, 0, 0, 0, 0, 0, 0, 0, 0, 0, 0, 0, 0, 0, 0, 0, 0, 0, 0, 0, 0, 0, 0, 0, 0, 0, 0, 0, 0]\n"
          ]
        }
      ],
      "source": [
        "kmeans = KMeans(n_clusters=3, random_state=0, n_init=\"auto\").fit(df)\n",
        "results = kmeans.fit_predict(X = df)\n",
        "print(results)\n",
        "print(list_l)"
      ]
    },
    {
      "cell_type": "code",
      "execution_count": null,
      "metadata": {
        "colab": {
          "base_uri": "https://localhost:8080/"
        },
        "id": "LuT4JgzLYnOx",
        "outputId": "7c8ad43f-f400-4c9f-b9ee-91fb5c5f75a0"
      },
      "outputs": [
        {
          "name": "stdout",
          "output_type": "stream",
          "text": [
            "0\n",
            "2777.570229190103\n"
          ]
        }
      ],
      "source": [
        "equal_count = 0\n",
        "for i in range(len(list_l)):\n",
        "  if(results[i] == 1 and list_l[i] == 2):\n",
        "    equal_count += 1\n",
        "  if(results[i] == 0 and list_l[i] == 1):\n",
        "    equal_count += 1\n",
        "  if(results[i] == 2 and list_l[i] == 0):\n",
        "    equal_count += 1\n",
        "print(equal_count)\n",
        "print(kmeans.inertia_)"
      ]
    },
    {
      "cell_type": "markdown",
      "metadata": {
        "id": "PlCJQbtebHmR"
      },
      "source": [
        "#F.\n",
        "Something interesting is that the clustering, in this trial, leads to the same exact clustering as my implementation, something of note however is that on each run of either algorithm the clusters tend to change their label while still belonging to that area, as in the 2's may change to 1 but still will be classified the same way. From the weight values we can see that cylinders is correlated with acceleration, and year, and that acceleration is also correlated with displacement."
      ]
    },
    {
      "cell_type": "markdown",
      "metadata": {
        "id": "8KpdBQwkaqek"
      },
      "source": [
        "#1.2 Dimensionality Reduction"
      ]
    },
    {
      "cell_type": "code",
      "execution_count": null,
      "metadata": {
        "id": "QokX38ZWp2_3"
      },
      "outputs": [],
      "source": [
        "import matplotlib.pyplot as plt"
      ]
    },
    {
      "cell_type": "code",
      "execution_count": null,
      "metadata": {
        "id": "XGo3HamYePtk",
        "colab": {
          "base_uri": "https://localhost:8080/"
        },
        "outputId": "32b31cf5-8c64-4edf-b812-04b366fdaaee"
      },
      "outputs": [
        {
          "output_type": "stream",
          "name": "stdout",
          "text": [
            "Index(['fixed acidity', 'volatile acidity', 'citric acid', 'residual sugar',\n",
            "       'chlorides', 'free sulfur dioxide', 'total sulfur dioxide', 'density',\n",
            "       'pH', 'sulphates', 'alcohol', 'quality'],\n",
            "      dtype='object')\n"
          ]
        }
      ],
      "source": [
        "df2= pd.read_csv('pca_data.csv')\n",
        "print(df2.columns)"
      ]
    },
    {
      "cell_type": "code",
      "execution_count": null,
      "metadata": {
        "id": "DZ7mZrpIauCf",
        "collapsed": true
      },
      "outputs": [],
      "source": [
        "for col in df2.columns:\n",
        "  df2.hist(column = col)\n",
        "  plt.show()\n",
        "for col in df2.columns:\n",
        "  df2.boxplot(column = col)\n",
        "  plt.show()"
      ]
    },
    {
      "cell_type": "markdown",
      "metadata": {
        "id": "rMC-1kwwmdL1"
      },
      "source": [
        "#b. What can be reduced?\n",
        "based off of the visuals an dlooking into the data, here are my conclusions. Fixed and Volatile acidity can be combined, and if citric acid is the acid in question they can probably be removed. Acidity is already measured by pH, so I'm not sure what metric those columns would be desired for. Free and total sulfur dioxide can likely be reduced as well, it seems unlikely you need both of those columns as free sulfur dioxide may be able to be gleamed from the pH or another column. If sulphates are the residue of some chemical reaction, then residual sugar is not needed as a column, otherwise it can stay. I am not sure what 'quality' means as a column, so depending on the target prediction variable it can likely be removed."
      ]
    },
    {
      "cell_type": "code",
      "source": [
        "from scipy import stats\n",
        "from numpy.linalg import eig\n",
        "def myPCA(X,n):\n",
        "  # covariances = []\n",
        "  #First do standardization\n",
        "  for col in X.columns:\n",
        "    if(X[col] == 0).any():\n",
        "      X[col] = X[col] + 1\n",
        "    X[col], lambdas= stats.boxcox(X[col])\n",
        "  #Next calculate the covariance matrix (We can do this all at once in one line)\n",
        "  covariances = (X.T @ X) / len(X)\n",
        "  #Then get the eigenvalues of the covariances\n",
        "  eValues, eVectors = eig(covariances)\n",
        "  #Sort the eigenvalues and Eigenvectors,\n",
        "  #I found an easy way to sort both by pairing them and sorting them that way\n",
        "  ePairs = []\n",
        "  for i in range(len(eValues)):\n",
        "    ePairs.append([abs(eValues[i]), eVectors[i,:]])\n",
        "  ePairs.sort(key=lambda x: x[0], reverse = True)\n",
        "  for j in range(len(eValues)):\n",
        "    eVectors[j] = ePairs[j][1]\n",
        "    eValues[j] = ePairs[j][0]\n",
        "  #Choose the components\n",
        "  W = eVectors[:n]\n",
        "  #Z = X(W.t)\n",
        "  Z = np.dot(X, W.T)\n",
        "  #To make comparison easier, I will convert this output to Explained Variance, though I see it is not in our PCA pseudo code\n",
        "  eValuesTotal = sum(eValues)\n",
        "  explainedVariance = []\n",
        "  for i in eValues:\n",
        "      explainedVariance.append((i/eValuesTotal))\n",
        "  #Return the core features\n",
        "  return Z, explainedVariance[:n] #I only want however many features expressed to be considered\n",
        "test = df2.copy()\n",
        "projections, explainedVariance= myPCA(test, 3)\n",
        "print(projections)\n",
        "print(explainedVariance)"
      ],
      "metadata": {
        "colab": {
          "base_uri": "https://localhost:8080/"
        },
        "id": "hqyDRulVaOKZ",
        "outputId": "957c92af-3813-4c75-d513-70f039f96426"
      },
      "execution_count": 59,
      "outputs": [
        {
          "output_type": "stream",
          "name": "stdout",
          "text": [
            "[[ 2.80623072 -2.98799963  2.58244504]\n",
            " [ 3.20917768 -3.7300315   3.09120052]\n",
            " [ 3.02530095 -3.14126366  2.7968093 ]\n",
            " ...\n",
            " [ 2.72044585 -4.19104048  3.22139383]\n",
            " [ 2.83390519 -4.32572183  3.29742058]\n",
            " [ 2.75082484 -3.62002448  2.95060153]]\n",
            "[0.9681905818475959, 0.019855836624205255, 0.005407359808271547]\n"
          ]
        }
      ]
    },
    {
      "cell_type": "code",
      "source": [
        "from sklearn.decomposition import PCA"
      ],
      "metadata": {
        "id": "jvk-g0gY7cEp"
      },
      "execution_count": 55,
      "outputs": []
    },
    {
      "cell_type": "code",
      "source": [
        "pca = PCA(n_components=3)\n",
        "pca.fit(df2)\n",
        "print(pca.explained_variance_ratio_)\n",
        "print(pca.singular_values_)"
      ],
      "metadata": {
        "colab": {
          "base_uri": "https://localhost:8080/"
        },
        "id": "s63COrWf7dsm",
        "outputId": "ea829669-b7bf-4826-b665-a43f9b433c6f"
      },
      "execution_count": 58,
      "outputs": [
        {
          "output_type": "stream",
          "name": "stdout",
          "text": [
            "[0.94607951 0.04834835 0.00259599]\n",
            "[1346.05255997  304.29093596   70.50984811]\n"
          ]
        }
      ]
    },
    {
      "cell_type": "markdown",
      "source": [
        "#Comparison\n",
        "We can see that my PCA function holds one component more responsible for the variance as opposed to the sklearn PCA function. Despite this, it seems that they both come to the same conclusion that 2 components cover ~98% of the variance."
      ],
      "metadata": {
        "id": "N7qbIUk2bvsf"
      }
    },
    {
      "cell_type": "markdown",
      "metadata": {
        "id": "WQKHZsSJBH4q"
      },
      "source": [
        "#2. Bayes Networks"
      ]
    },
    {
      "cell_type": "code",
      "execution_count": 60,
      "metadata": {
        "colab": {
          "base_uri": "https://localhost:8080/"
        },
        "id": "5Yu-SHKLBSTR",
        "outputId": "9540be53-df3e-46c8-ef0f-b4c4f2e42e91",
        "collapsed": true
      },
      "outputs": [
        {
          "output_type": "stream",
          "name": "stdout",
          "text": [
            "Collecting pgmpy\n",
            "  Downloading pgmpy-0.1.26-py3-none-any.whl.metadata (9.1 kB)\n",
            "Requirement already satisfied: networkx in /usr/local/lib/python3.10/dist-packages (from pgmpy) (3.4.2)\n",
            "Requirement already satisfied: numpy in /usr/local/lib/python3.10/dist-packages (from pgmpy) (1.26.4)\n",
            "Requirement already satisfied: scipy in /usr/local/lib/python3.10/dist-packages (from pgmpy) (1.13.1)\n",
            "Requirement already satisfied: scikit-learn in /usr/local/lib/python3.10/dist-packages (from pgmpy) (1.5.2)\n",
            "Requirement already satisfied: pandas in /usr/local/lib/python3.10/dist-packages (from pgmpy) (2.2.2)\n",
            "Requirement already satisfied: pyparsing in /usr/local/lib/python3.10/dist-packages (from pgmpy) (3.2.0)\n",
            "Requirement already satisfied: torch in /usr/local/lib/python3.10/dist-packages (from pgmpy) (2.5.1+cu121)\n",
            "Requirement already satisfied: statsmodels in /usr/local/lib/python3.10/dist-packages (from pgmpy) (0.14.4)\n",
            "Requirement already satisfied: tqdm in /usr/local/lib/python3.10/dist-packages (from pgmpy) (4.66.6)\n",
            "Requirement already satisfied: joblib in /usr/local/lib/python3.10/dist-packages (from pgmpy) (1.4.2)\n",
            "Requirement already satisfied: opt-einsum in /usr/local/lib/python3.10/dist-packages (from pgmpy) (3.4.0)\n",
            "Requirement already satisfied: xgboost in /usr/local/lib/python3.10/dist-packages (from pgmpy) (2.1.2)\n",
            "Requirement already satisfied: google-generativeai in /usr/local/lib/python3.10/dist-packages (from pgmpy) (0.8.3)\n",
            "Requirement already satisfied: google-ai-generativelanguage==0.6.10 in /usr/local/lib/python3.10/dist-packages (from google-generativeai->pgmpy) (0.6.10)\n",
            "Requirement already satisfied: google-api-core in /usr/local/lib/python3.10/dist-packages (from google-generativeai->pgmpy) (2.19.2)\n",
            "Requirement already satisfied: google-api-python-client in /usr/local/lib/python3.10/dist-packages (from google-generativeai->pgmpy) (2.151.0)\n",
            "Requirement already satisfied: google-auth>=2.15.0 in /usr/local/lib/python3.10/dist-packages (from google-generativeai->pgmpy) (2.27.0)\n",
            "Requirement already satisfied: protobuf in /usr/local/lib/python3.10/dist-packages (from google-generativeai->pgmpy) (4.25.5)\n",
            "Requirement already satisfied: pydantic in /usr/local/lib/python3.10/dist-packages (from google-generativeai->pgmpy) (2.9.2)\n",
            "Requirement already satisfied: typing-extensions in /usr/local/lib/python3.10/dist-packages (from google-generativeai->pgmpy) (4.12.2)\n",
            "Requirement already satisfied: proto-plus<2.0.0dev,>=1.22.3 in /usr/local/lib/python3.10/dist-packages (from google-ai-generativelanguage==0.6.10->google-generativeai->pgmpy) (1.25.0)\n",
            "Requirement already satisfied: python-dateutil>=2.8.2 in /usr/local/lib/python3.10/dist-packages (from pandas->pgmpy) (2.8.2)\n",
            "Requirement already satisfied: pytz>=2020.1 in /usr/local/lib/python3.10/dist-packages (from pandas->pgmpy) (2024.2)\n",
            "Requirement already satisfied: tzdata>=2022.7 in /usr/local/lib/python3.10/dist-packages (from pandas->pgmpy) (2024.2)\n",
            "Requirement already satisfied: threadpoolctl>=3.1.0 in /usr/local/lib/python3.10/dist-packages (from scikit-learn->pgmpy) (3.5.0)\n",
            "Requirement already satisfied: patsy>=0.5.6 in /usr/local/lib/python3.10/dist-packages (from statsmodels->pgmpy) (1.0.1)\n",
            "Requirement already satisfied: packaging>=21.3 in /usr/local/lib/python3.10/dist-packages (from statsmodels->pgmpy) (24.2)\n",
            "Requirement already satisfied: filelock in /usr/local/lib/python3.10/dist-packages (from torch->pgmpy) (3.16.1)\n",
            "Requirement already satisfied: jinja2 in /usr/local/lib/python3.10/dist-packages (from torch->pgmpy) (3.1.4)\n",
            "Requirement already satisfied: fsspec in /usr/local/lib/python3.10/dist-packages (from torch->pgmpy) (2024.10.0)\n",
            "Requirement already satisfied: sympy==1.13.1 in /usr/local/lib/python3.10/dist-packages (from torch->pgmpy) (1.13.1)\n",
            "Requirement already satisfied: mpmath<1.4,>=1.1.0 in /usr/local/lib/python3.10/dist-packages (from sympy==1.13.1->torch->pgmpy) (1.3.0)\n",
            "Requirement already satisfied: nvidia-nccl-cu12 in /usr/local/lib/python3.10/dist-packages (from xgboost->pgmpy) (2.23.4)\n",
            "Requirement already satisfied: googleapis-common-protos<2.0.dev0,>=1.56.2 in /usr/local/lib/python3.10/dist-packages (from google-api-core->google-generativeai->pgmpy) (1.66.0)\n",
            "Requirement already satisfied: requests<3.0.0.dev0,>=2.18.0 in /usr/local/lib/python3.10/dist-packages (from google-api-core->google-generativeai->pgmpy) (2.32.3)\n",
            "Requirement already satisfied: cachetools<6.0,>=2.0.0 in /usr/local/lib/python3.10/dist-packages (from google-auth>=2.15.0->google-generativeai->pgmpy) (5.5.0)\n",
            "Requirement already satisfied: pyasn1-modules>=0.2.1 in /usr/local/lib/python3.10/dist-packages (from google-auth>=2.15.0->google-generativeai->pgmpy) (0.4.1)\n",
            "Requirement already satisfied: rsa<5,>=3.1.4 in /usr/local/lib/python3.10/dist-packages (from google-auth>=2.15.0->google-generativeai->pgmpy) (4.9)\n",
            "Requirement already satisfied: six>=1.5 in /usr/local/lib/python3.10/dist-packages (from python-dateutil>=2.8.2->pandas->pgmpy) (1.16.0)\n",
            "Requirement already satisfied: httplib2<1.dev0,>=0.19.0 in /usr/local/lib/python3.10/dist-packages (from google-api-python-client->google-generativeai->pgmpy) (0.22.0)\n",
            "Requirement already satisfied: google-auth-httplib2<1.0.0,>=0.2.0 in /usr/local/lib/python3.10/dist-packages (from google-api-python-client->google-generativeai->pgmpy) (0.2.0)\n",
            "Requirement already satisfied: uritemplate<5,>=3.0.1 in /usr/local/lib/python3.10/dist-packages (from google-api-python-client->google-generativeai->pgmpy) (4.1.1)\n",
            "Requirement already satisfied: MarkupSafe>=2.0 in /usr/local/lib/python3.10/dist-packages (from jinja2->torch->pgmpy) (3.0.2)\n",
            "Requirement already satisfied: annotated-types>=0.6.0 in /usr/local/lib/python3.10/dist-packages (from pydantic->google-generativeai->pgmpy) (0.7.0)\n",
            "Requirement already satisfied: pydantic-core==2.23.4 in /usr/local/lib/python3.10/dist-packages (from pydantic->google-generativeai->pgmpy) (2.23.4)\n",
            "Requirement already satisfied: grpcio<2.0dev,>=1.33.2 in /usr/local/lib/python3.10/dist-packages (from google-api-core[grpc]!=2.0.*,!=2.1.*,!=2.10.*,!=2.2.*,!=2.3.*,!=2.4.*,!=2.5.*,!=2.6.*,!=2.7.*,!=2.8.*,!=2.9.*,<3.0.0dev,>=1.34.1->google-ai-generativelanguage==0.6.10->google-generativeai->pgmpy) (1.67.1)\n",
            "Requirement already satisfied: grpcio-status<2.0.dev0,>=1.33.2 in /usr/local/lib/python3.10/dist-packages (from google-api-core[grpc]!=2.0.*,!=2.1.*,!=2.10.*,!=2.2.*,!=2.3.*,!=2.4.*,!=2.5.*,!=2.6.*,!=2.7.*,!=2.8.*,!=2.9.*,<3.0.0dev,>=1.34.1->google-ai-generativelanguage==0.6.10->google-generativeai->pgmpy) (1.62.3)\n",
            "Requirement already satisfied: pyasn1<0.7.0,>=0.4.6 in /usr/local/lib/python3.10/dist-packages (from pyasn1-modules>=0.2.1->google-auth>=2.15.0->google-generativeai->pgmpy) (0.6.1)\n",
            "Requirement already satisfied: charset-normalizer<4,>=2 in /usr/local/lib/python3.10/dist-packages (from requests<3.0.0.dev0,>=2.18.0->google-api-core->google-generativeai->pgmpy) (3.4.0)\n",
            "Requirement already satisfied: idna<4,>=2.5 in /usr/local/lib/python3.10/dist-packages (from requests<3.0.0.dev0,>=2.18.0->google-api-core->google-generativeai->pgmpy) (3.10)\n",
            "Requirement already satisfied: urllib3<3,>=1.21.1 in /usr/local/lib/python3.10/dist-packages (from requests<3.0.0.dev0,>=2.18.0->google-api-core->google-generativeai->pgmpy) (2.2.3)\n",
            "Requirement already satisfied: certifi>=2017.4.17 in /usr/local/lib/python3.10/dist-packages (from requests<3.0.0.dev0,>=2.18.0->google-api-core->google-generativeai->pgmpy) (2024.8.30)\n",
            "Downloading pgmpy-0.1.26-py3-none-any.whl (2.0 MB)\n",
            "\u001b[2K   \u001b[90m━━━━━━━━━━━━━━━━━━━━━━━━━━━━━━━━━━━━━━━━\u001b[0m \u001b[32m2.0/2.0 MB\u001b[0m \u001b[31m25.0 MB/s\u001b[0m eta \u001b[36m0:00:00\u001b[0m\n",
            "\u001b[?25hInstalling collected packages: pgmpy\n",
            "Successfully installed pgmpy-0.1.26\n"
          ]
        }
      ],
      "source": [
        "!pip3 install pgmpy\n",
        "!pip3 install -q daft"
      ]
    },
    {
      "cell_type": "code",
      "execution_count": 98,
      "metadata": {
        "id": "IPNbAmghBKNM"
      },
      "outputs": [],
      "source": [
        "%matplotlib inline\n",
        "import daft\n",
        "from daft import PGM\n",
        "from pgmpy.models import BayesianNetwork\n",
        "from pgmpy.factors.discrete import TabularCPD"
      ]
    },
    {
      "cell_type": "code",
      "execution_count": 99,
      "metadata": {
        "id": "D-TMs1jRCK4R"
      },
      "outputs": [],
      "source": [
        "def convert_pgm_to_pgmpy(pgm):\n",
        "    \"\"\"Takes a Daft PGM object and converts it to a pgmpy BayesianModel\"\"\"\n",
        "    edges = [(edge.node1.name, edge.node2.name) for edge in pgm._edges]\n",
        "    model = BayesianModel(edges)\n",
        "    return model"
      ]
    },
    {
      "cell_type": "code",
      "execution_count": 100,
      "metadata": {
        "colab": {
          "base_uri": "https://localhost:8080/",
          "height": 290
        },
        "id": "RgRyNjiRCogZ",
        "outputId": "b48b4856-70f7-4e0a-ad7d-a1a506fc7a18"
      },
      "outputs": [
        {
          "output_type": "execute_result",
          "data": {
            "text/plain": [
              "<Axes: >"
            ]
          },
          "metadata": {},
          "execution_count": 100
        },
        {
          "output_type": "display_data",
          "data": {
            "text/plain": [
              "<Figure size 393.701x236.22 with 1 Axes>"
            ],
            "image/png": "[encoded data removed]"
          },
          "metadata": {}
        }
      ],
      "source": [
        "pgm = PGM(shape=[5, 3])\n",
        "\n",
        "pgm.add_node(daft.Node('C', r\"C\", 2, 3))\n",
        "pgm.add_node(daft.Node('Y', r\"Y\", 4, 2))\n",
        "pgm.add_node(daft.Node('W', r\"W\", 3, 2))\n",
        "pgm.add_node(daft.Node('M', r\"M\", 2, 2))\n",
        "pgm.add_node(daft.Node('A', r\"A\", 5, 2))\n",
        "pgm.add_node(daft.Node('L', r\"L\", 1, 1))\n",
        "\n",
        "\n",
        "pgm.add_edge('C', 'Y')\n",
        "pgm.add_edge('C', 'A')\n",
        "pgm.add_edge('C', 'M')\n",
        "pgm.add_edge('C', 'W')\n",
        "pgm.add_edge('W', 'M')\n",
        "pgm.add_edge('Y', 'A')\n",
        "pgm.add_edge('C', 'L')\n",
        "pgm.add_edge('W', 'L')\n",
        "pgm.add_edge('M', 'L')\n",
        "\n",
        "pgm.render()\n",
        "# plt.show()"
      ]
    },
    {
      "cell_type": "code",
      "execution_count": 101,
      "metadata": {
        "colab": {
          "base_uri": "https://localhost:8080/",
          "height": 374
        },
        "id": "RF-U2lx-aPub",
        "outputId": "a56dda95-330d-477e-9312-9e6702029b3e"
      },
      "outputs": [
        {
          "output_type": "error",
          "ename": "ValueError",
          "evalue": "Length mismatch: Expected axis has 8 elements, new values have 6 elements",
          "traceback": [
            "\u001b[0;31m---------------------------------------------------------------------------\u001b[0m",
            "\u001b[0;31mValueError\u001b[0m                                Traceback (most recent call last)",
            "\u001b[0;32m<ipython-input-101-47402bcc818d>\u001b[0m in \u001b[0;36m<cell line: 1>\u001b[0;34m()\u001b[0m\n\u001b[0;32m----> 1\u001b[0;31m \u001b[0mdf\u001b[0m\u001b[0;34m.\u001b[0m\u001b[0mcolumns\u001b[0m \u001b[0;34m=\u001b[0m \u001b[0;34m[\u001b[0m\u001b[0;34m'C'\u001b[0m\u001b[0;34m,\u001b[0m \u001b[0;34m'D'\u001b[0m\u001b[0;34m,\u001b[0m\u001b[0;34m'H'\u001b[0m\u001b[0;34m,\u001b[0m\u001b[0;34m'W'\u001b[0m\u001b[0;34m,\u001b[0m\u001b[0;34m'A'\u001b[0m\u001b[0;34m,\u001b[0m\u001b[0;34m'Y'\u001b[0m\u001b[0;34m]\u001b[0m\u001b[0;34m\u001b[0m\u001b[0;34m\u001b[0m\u001b[0m\n\u001b[0m\u001b[1;32m      2\u001b[0m \u001b[0mdf\u001b[0m\u001b[0;34m[\u001b[0m\u001b[0;34m'M'\u001b[0m\u001b[0;34m]\u001b[0m \u001b[0;34m=\u001b[0m \u001b[0my\u001b[0m\u001b[0;34m\u001b[0m\u001b[0;34m\u001b[0m\u001b[0m\n\u001b[1;32m      3\u001b[0m \u001b[0mdf\u001b[0m\u001b[0;34m[\u001b[0m\u001b[0;34m'L'\u001b[0m\u001b[0;34m]\u001b[0m \u001b[0;34m=\u001b[0m \u001b[0mresults\u001b[0m\u001b[0;34m\u001b[0m\u001b[0;34m\u001b[0m\u001b[0m\n",
            "\u001b[0;32m/usr/local/lib/python3.10/dist-packages/pandas/core/generic.py\u001b[0m in \u001b[0;36m__setattr__\u001b[0;34m(self, name, value)\u001b[0m\n\u001b[1;32m   6311\u001b[0m         \u001b[0;32mtry\u001b[0m\u001b[0;34m:\u001b[0m\u001b[0;34m\u001b[0m\u001b[0;34m\u001b[0m\u001b[0m\n\u001b[1;32m   6312\u001b[0m             \u001b[0mobject\u001b[0m\u001b[0;34m.\u001b[0m\u001b[0m__getattribute__\u001b[0m\u001b[0;34m(\u001b[0m\u001b[0mself\u001b[0m\u001b[0;34m,\u001b[0m \u001b[0mname\u001b[0m\u001b[0;34m)\u001b[0m\u001b[0;34m\u001b[0m\u001b[0;34m\u001b[0m\u001b[0m\n\u001b[0;32m-> 6313\u001b[0;31m             \u001b[0;32mreturn\u001b[0m \u001b[0mobject\u001b[0m\u001b[0;34m.\u001b[0m\u001b[0m__setattr__\u001b[0m\u001b[0;34m(\u001b[0m\u001b[0mself\u001b[0m\u001b[0;34m,\u001b[0m \u001b[0mname\u001b[0m\u001b[0;34m,\u001b[0m \u001b[0mvalue\u001b[0m\u001b[0;34m)\u001b[0m\u001b[0;34m\u001b[0m\u001b[0;34m\u001b[0m\u001b[0m\n\u001b[0m\u001b[1;32m   6314\u001b[0m         \u001b[0;32mexcept\u001b[0m \u001b[0mAttributeError\u001b[0m\u001b[0;34m:\u001b[0m\u001b[0;34m\u001b[0m\u001b[0;34m\u001b[0m\u001b[0m\n\u001b[1;32m   6315\u001b[0m             \u001b[0;32mpass\u001b[0m\u001b[0;34m\u001b[0m\u001b[0;34m\u001b[0m\u001b[0m\n",
            "\u001b[0;32mproperties.pyx\u001b[0m in \u001b[0;36mpandas._libs.properties.AxisProperty.__set__\u001b[0;34m()\u001b[0m\n",
            "\u001b[0;32m/usr/local/lib/python3.10/dist-packages/pandas/core/generic.py\u001b[0m in \u001b[0;36m_set_axis\u001b[0;34m(self, axis, labels)\u001b[0m\n\u001b[1;32m    812\u001b[0m         \"\"\"\n\u001b[1;32m    813\u001b[0m         \u001b[0mlabels\u001b[0m \u001b[0;34m=\u001b[0m \u001b[0mensure_index\u001b[0m\u001b[0;34m(\u001b[0m\u001b[0mlabels\u001b[0m\u001b[0;34m)\u001b[0m\u001b[0;34m\u001b[0m\u001b[0;34m\u001b[0m\u001b[0m\n\u001b[0;32m--> 814\u001b[0;31m         \u001b[0mself\u001b[0m\u001b[0;34m.\u001b[0m\u001b[0m_mgr\u001b[0m\u001b[0;34m.\u001b[0m\u001b[0mset_axis\u001b[0m\u001b[0;34m(\u001b[0m\u001b[0maxis\u001b[0m\u001b[0;34m,\u001b[0m \u001b[0mlabels\u001b[0m\u001b[0;34m)\u001b[0m\u001b[0;34m\u001b[0m\u001b[0;34m\u001b[0m\u001b[0m\n\u001b[0m\u001b[1;32m    815\u001b[0m         \u001b[0mself\u001b[0m\u001b[0;34m.\u001b[0m\u001b[0m_clear_item_cache\u001b[0m\u001b[0;34m(\u001b[0m\u001b[0;34m)\u001b[0m\u001b[0;34m\u001b[0m\u001b[0;34m\u001b[0m\u001b[0m\n\u001b[1;32m    816\u001b[0m \u001b[0;34m\u001b[0m\u001b[0m\n",
            "\u001b[0;32m/usr/local/lib/python3.10/dist-packages/pandas/core/internals/managers.py\u001b[0m in \u001b[0;36mset_axis\u001b[0;34m(self, axis, new_labels)\u001b[0m\n\u001b[1;32m    236\u001b[0m     \u001b[0;32mdef\u001b[0m \u001b[0mset_axis\u001b[0m\u001b[0;34m(\u001b[0m\u001b[0mself\u001b[0m\u001b[0;34m,\u001b[0m \u001b[0maxis\u001b[0m\u001b[0;34m:\u001b[0m \u001b[0mAxisInt\u001b[0m\u001b[0;34m,\u001b[0m \u001b[0mnew_labels\u001b[0m\u001b[0;34m:\u001b[0m \u001b[0mIndex\u001b[0m\u001b[0;34m)\u001b[0m \u001b[0;34m->\u001b[0m \u001b[0;32mNone\u001b[0m\u001b[0;34m:\u001b[0m\u001b[0;34m\u001b[0m\u001b[0;34m\u001b[0m\u001b[0m\n\u001b[1;32m    237\u001b[0m         \u001b[0;31m# Caller is responsible for ensuring we have an Index object.\u001b[0m\u001b[0;34m\u001b[0m\u001b[0;34m\u001b[0m\u001b[0m\n\u001b[0;32m--> 238\u001b[0;31m         \u001b[0mself\u001b[0m\u001b[0;34m.\u001b[0m\u001b[0m_validate_set_axis\u001b[0m\u001b[0;34m(\u001b[0m\u001b[0maxis\u001b[0m\u001b[0;34m,\u001b[0m \u001b[0mnew_labels\u001b[0m\u001b[0;34m)\u001b[0m\u001b[0;34m\u001b[0m\u001b[0;34m\u001b[0m\u001b[0m\n\u001b[0m\u001b[1;32m    239\u001b[0m         \u001b[0mself\u001b[0m\u001b[0;34m.\u001b[0m\u001b[0maxes\u001b[0m\u001b[0;34m[\u001b[0m\u001b[0maxis\u001b[0m\u001b[0;34m]\u001b[0m \u001b[0;34m=\u001b[0m \u001b[0mnew_labels\u001b[0m\u001b[0;34m\u001b[0m\u001b[0;34m\u001b[0m\u001b[0m\n\u001b[1;32m    240\u001b[0m \u001b[0;34m\u001b[0m\u001b[0m\n",
            "\u001b[0;32m/usr/local/lib/python3.10/dist-packages/pandas/core/internals/base.py\u001b[0m in \u001b[0;36m_validate_set_axis\u001b[0;34m(self, axis, new_labels)\u001b[0m\n\u001b[1;32m     96\u001b[0m \u001b[0;34m\u001b[0m\u001b[0m\n\u001b[1;32m     97\u001b[0m         \u001b[0;32melif\u001b[0m \u001b[0mnew_len\u001b[0m \u001b[0;34m!=\u001b[0m \u001b[0mold_len\u001b[0m\u001b[0;34m:\u001b[0m\u001b[0;34m\u001b[0m\u001b[0;34m\u001b[0m\u001b[0m\n\u001b[0;32m---> 98\u001b[0;31m             raise ValueError(\n\u001b[0m\u001b[1;32m     99\u001b[0m                 \u001b[0;34mf\"Length mismatch: Expected axis has {old_len} elements, new \"\u001b[0m\u001b[0;34m\u001b[0m\u001b[0;34m\u001b[0m\u001b[0m\n\u001b[1;32m    100\u001b[0m                 \u001b[0;34mf\"values have {new_len} elements\"\u001b[0m\u001b[0;34m\u001b[0m\u001b[0;34m\u001b[0m\u001b[0m\n",
            "\u001b[0;31mValueError\u001b[0m: Length mismatch: Expected axis has 8 elements, new values have 6 elements"
          ]
        }
      ],
      "source": [
        "df.columns = ['C', 'D','H','W','A','Y']\n",
        "df['M'] = y\n",
        "df['L'] = results\n"
      ]
    },
    {
      "cell_type": "code",
      "execution_count": 102,
      "metadata": {
        "id": "WMgqfAdfZ_TW"
      },
      "outputs": [],
      "source": [
        "model = BayesianNetwork()\n",
        "model.add_node('C', 'Y', 'A')\n",
        "model.add_node('W', 'M', 'L')\n",
        "model.add_edge('C', 'Y')\n",
        "model.add_edge('C', 'A')\n",
        "model.add_edge('C', 'M')\n",
        "model.add_edge('C', 'W')\n",
        "model.add_edge('W', 'M')\n",
        "model.add_edge('Y', 'A')\n",
        "##\n",
        "model.add_edge('C', 'L')\n",
        "model.add_edge('M', 'L')\n",
        "model.add_edge('W', 'L')\n",
        "\n",
        "model.fit(df)"
      ]
    },
    {
      "cell_type": "code",
      "execution_count": 103,
      "metadata": {
        "colab": {
          "base_uri": "https://localhost:8080/"
        },
        "id": "Ayg04Ir3MTPQ",
        "outputId": "72030f89-eff8-4480-fa8f-b5d2febc5677"
      },
      "outputs": [
        {
          "output_type": "execute_result",
          "data": {
            "text/plain": [
              "True"
            ]
          },
          "metadata": {},
          "execution_count": 103
        }
      ],
      "source": [
        "model.check_model()"
      ]
    },
    {
      "cell_type": "code",
      "execution_count": 104,
      "metadata": {
        "colab": {
          "base_uri": "https://localhost:8080/"
        },
        "id": "1wmq8IjWL7rQ",
        "outputId": "fb6aa7ed-f331-4b92-f1ae-86c060c0d942"
      },
      "outputs": [
        {
          "output_type": "stream",
          "name": "stdout",
          "text": [
            "+------+------------+\n",
            "| C(3) | 0.0100503  |\n",
            "+------+------------+\n",
            "| C(4) | 0.512563   |\n",
            "+------+------------+\n",
            "| C(5) | 0.00753769 |\n",
            "+------+------------+\n",
            "| C(6) | 0.211055   |\n",
            "+------+------------+\n",
            "| C(8) | 0.258794   |\n",
            "+------+------------+\n",
            "+-------+------+----------------------+-----+----------------------+\n",
            "| C     | C(3) | C(4)                 | ... | C(8)                 |\n",
            "+-------+------+----------------------+-----+----------------------+\n",
            "| Y(70) | 0.0  | 0.03431372549019608  | ... | 0.17475728155339806  |\n",
            "+-------+------+----------------------+-----+----------------------+\n",
            "| Y(71) | 0.0  | 0.06372549019607843  | ... | 0.06796116504854369  |\n",
            "+-------+------+----------------------+-----+----------------------+\n",
            "| Y(72) | 0.25 | 0.06862745098039216  | ... | 0.1262135922330097   |\n",
            "+-------+------+----------------------+-----+----------------------+\n",
            "| Y(73) | 0.25 | 0.05392156862745098  | ... | 0.1941747572815534   |\n",
            "+-------+------+----------------------+-----+----------------------+\n",
            "| Y(74) | 0.0  | 0.07352941176470588  | ... | 0.04854368932038835  |\n",
            "+-------+------+----------------------+-----+----------------------+\n",
            "| Y(75) | 0.0  | 0.058823529411764705 | ... | 0.05825242718446602  |\n",
            "+-------+------+----------------------+-----+----------------------+\n",
            "| Y(76) | 0.0  | 0.07352941176470588  | ... | 0.08737864077669903  |\n",
            "+-------+------+----------------------+-----+----------------------+\n",
            "| Y(77) | 0.25 | 0.06862745098039216  | ... | 0.07766990291262135  |\n",
            "+-------+------+----------------------+-----+----------------------+\n",
            "| Y(78) | 0.0  | 0.08333333333333333  | ... | 0.05825242718446602  |\n",
            "+-------+------+----------------------+-----+----------------------+\n",
            "| Y(79) | 0.0  | 0.058823529411764705 | ... | 0.0970873786407767   |\n",
            "+-------+------+----------------------+-----+----------------------+\n",
            "| Y(80) | 0.25 | 0.12254901960784313  | ... | 0.0                  |\n",
            "+-------+------+----------------------+-----+----------------------+\n",
            "| Y(81) | 0.0  | 0.10294117647058823  | ... | 0.009708737864077669 |\n",
            "+-------+------+----------------------+-----+----------------------+\n",
            "| Y(82) | 0.0  | 0.13725490196078433  | ... | 0.0                  |\n",
            "+-------+------+----------------------+-----+----------------------+\n",
            "+------+-------+-------+-------+-------+-----+-------+-------+-------+-------+\n",
            "| C    | C(3)  | C(3)  | C(3)  | C(3)  | ... | C(8)  | C(8)  | C(8)  | C(8)  |\n",
            "+------+-------+-------+-------+-------+-----+-------+-------+-------+-------+\n",
            "| Y    | Y(70) | Y(71) | Y(72) | Y(73) | ... | Y(79) | Y(80) | Y(81) | Y(82) |\n",
            "+------+-------+-------+-------+-------+-----+-------+-------+-------+-------+\n",
            "| A(1) | 0.25  | 0.25  | 1.0   | 1.0   | ... | 0.3   | 0.25  | 0.0   | 0.25  |\n",
            "+------+-------+-------+-------+-------+-----+-------+-------+-------+-------+\n",
            "| A(2) | 0.25  | 0.25  | 0.0   | 0.0   | ... | 0.5   | 0.25  | 0.0   | 0.25  |\n",
            "+------+-------+-------+-------+-------+-----+-------+-------+-------+-------+\n",
            "| A(3) | 0.25  | 0.25  | 0.0   | 0.0   | ... | 0.0   | 0.25  | 0.0   | 0.25  |\n",
            "+------+-------+-------+-------+-------+-----+-------+-------+-------+-------+\n",
            "| A(4) | 0.25  | 0.25  | 0.0   | 0.0   | ... | 0.2   | 0.25  | 1.0   | 0.25  |\n",
            "+------+-------+-------+-------+-------+-----+-------+-------+-------+-------+\n",
            "+------+------+---------------------+------+---------------------+---------------------+\n",
            "| C    | C(3) | C(4)                | C(5) | C(6)                | C(8)                |\n",
            "+------+------+---------------------+------+---------------------+---------------------+\n",
            "| W(1) | 0.25 | 0.4852941176470588  | 0.0  | 0.0                 | 0.0                 |\n",
            "+------+------+---------------------+------+---------------------+---------------------+\n",
            "| W(2) | 0.75 | 0.4264705882352941  | 0.0  | 0.10714285714285714 | 0.0                 |\n",
            "+------+------+---------------------+------+---------------------+---------------------+\n",
            "| W(3) | 0.0  | 0.08823529411764706 | 1.0  | 0.75                | 0.14563106796116504 |\n",
            "+------+------+---------------------+------+---------------------+---------------------+\n",
            "| W(4) | 0.0  | 0.0                 | 0.0  | 0.14285714285714285 | 0.8543689320388349  |\n",
            "+------+------+---------------------+------+---------------------+---------------------+\n",
            "+------+------+------+--------------------+-----+------+----------------------+\n",
            "| C    | C(3) | C(3) | C(3)               | ... | C(8) | C(8)                 |\n",
            "+------+------+------+--------------------+-----+------+----------------------+\n",
            "| W    | W(1) | W(2) | W(3)               | ... | W(3) | W(4)                 |\n",
            "+------+------+------+--------------------+-----+------+----------------------+\n",
            "| M(0) | 1.0  | 0.0  | 0.3333333333333333 | ... | 0.6  | 0.9659090909090909   |\n",
            "+------+------+------+--------------------+-----+------+----------------------+\n",
            "| M(1) | 0.0  | 1.0  | 0.3333333333333333 | ... | 0.4  | 0.022727272727272728 |\n",
            "+------+------+------+--------------------+-----+------+----------------------+\n",
            "| M(2) | 0.0  | 0.0  | 0.3333333333333333 | ... | 0.0  | 0.011363636363636364 |\n",
            "+------+------+------+--------------------+-----+------+----------------------+\n",
            "+------+------+--------------------+-----+--------------------+------+\n",
            "| C    | C(3) | C(3)               | ... | C(8)               | C(8) |\n",
            "+------+------+--------------------+-----+--------------------+------+\n",
            "| M    | M(0) | M(0)               | ... | M(2)               | M(2) |\n",
            "+------+------+--------------------+-----+--------------------+------+\n",
            "| W    | W(1) | W(2)               | ... | W(3)               | W(4) |\n",
            "+------+------+--------------------+-----+--------------------+------+\n",
            "| L(0) | 1.0  | 0.3333333333333333 | ... | 0.3333333333333333 | 0.0  |\n",
            "+------+------+--------------------+-----+--------------------+------+\n",
            "| L(1) | 0.0  | 0.3333333333333333 | ... | 0.3333333333333333 | 0.0  |\n",
            "+------+------+--------------------+-----+--------------------+------+\n",
            "| L(2) | 0.0  | 0.3333333333333333 | ... | 0.3333333333333333 | 1.0  |\n",
            "+------+------+--------------------+-----+--------------------+------+\n"
          ]
        }
      ],
      "source": [
        "print(model.get_cpds('C'))\n",
        "print(model.get_cpds('Y'))\n",
        "print(model.get_cpds('A'))\n",
        "print(model.get_cpds('W'))\n",
        "print(model.get_cpds('M'))\n",
        "print(model.get_cpds('L'))"
      ]
    },
    {
      "cell_type": "markdown",
      "source": [
        "#B. Verify the Conditional Independencies in the Graph\n",
        "Overall - Everything is dependent on C. C has a direct edge to every node in the graph, so therefore nothing is conditionally independent of C.\n",
        "Y - Y is independent of all other nodes except for C. For nodes W,M, and L they are independent given C, and are blocked without C. For A, Y is not independent of A given C, as it directly influences A.\n",
        "A - Same reasoning as Y for why it is independent of W,M, and L, however because Y directly influences it, it is not independent from Y.\n",
        "W - Same reasoning again for independence from Y and A, however M and L are directly dependent on W so they will not be independent.\n",
        "M - Given C Y and A are independent via C being a fork. W directly influences M, so it will never be independent from it, and M also directly influences L, so L will not be independent.\n",
        "L - L is independent from Y and A for the same reasoning as M and W, however since there is a direct edge from C, M, and W to L it is dependent on those nodes."
      ],
      "metadata": {
        "id": "53iVq7fcms87"
      }
    },
    {
      "cell_type": "code",
      "execution_count": 105,
      "metadata": {
        "colab": {
          "base_uri": "https://localhost:8080/"
        },
        "id": "NYb4fckDead7",
        "outputId": "894e08dd-db37-4b08-a034-4fb08cac8502"
      },
      "outputs": [
        {
          "output_type": "execute_result",
          "data": {
            "text/plain": [
              "(Y ⟂ W, M, L | C)\n",
              "(A ⟂ W, M, L | Y, C)\n",
              "(W ⟂ Y, A | C)\n",
              "(M ⟂ Y, A | W, C)\n",
              "(L ⟂ Y, A | M, C, W)"
            ]
          },
          "metadata": {},
          "execution_count": 105
        }
      ],
      "source": [
        "model.local_independencies(['C','Y','A','W','M','L'])"
      ]
    },
    {
      "cell_type": "code",
      "execution_count": 106,
      "metadata": {
        "colab": {
          "base_uri": "https://localhost:8080/",
          "height": 424
        },
        "id": "HYmgimxZemVR",
        "outputId": "d4b14f2a-d15a-4a6f-88a5-b8b0f7f51335"
      },
      "outputs": [
        {
          "output_type": "execute_result",
          "data": {
            "text/plain": [
              "          L_0       L_1       L_2\n",
              "0    0.000000  0.888889  0.111111\n",
              "1    0.000000  0.894118  0.105882\n",
              "2    0.000000  0.888889  0.111111\n",
              "3    0.000000  0.888889  0.111111\n",
              "4    0.000000  0.888889  0.111111\n",
              "..        ...       ...       ...\n",
              "393  0.076923  0.000000  0.923077\n",
              "394  0.325581  0.000000  0.674419\n",
              "395  0.076923  0.000000  0.923077\n",
              "396  0.076923  0.000000  0.923077\n",
              "397  0.076923  0.000000  0.923077\n",
              "\n",
              "[398 rows x 3 columns]"
            ],
            "text/html": [
              "\n",
              "  <div id=\"df-3f4d18ab-a4de-4a98-9aad-1f6fd41eb824\" class=\"colab-df-container\">\n",
              "    <div>\n",
              "<style scoped>\n",
              "    .dataframe tbody tr th:only-of-type {\n",
              "        vertical-align: middle;\n",
              "    }\n",
              "\n",
              "    .dataframe tbody tr th {\n",
              "        vertical-align: top;\n",
              "    }\n",
              "\n",
              "    .dataframe thead th {\n",
              "        text-align: right;\n",
              "    }\n",
              "</style>\n",
              "<table border=\"1\" class=\"dataframe\">\n",
              "  <thead>\n",
              "    <tr style=\"text-align: right;\">\n",
              "      <th></th>\n",
              "      <th>L_0</th>\n",
              "      <th>L_1</th>\n",
              "      <th>L_2</th>\n",
              "    </tr>\n",
              "  </thead>\n",
              "  <tbody>\n",
              "    <tr>\n",
              "      <th>0</th>\n",
              "      <td>0.000000</td>\n",
              "      <td>0.888889</td>\n",
              "      <td>0.111111</td>\n",
              "    </tr>\n",
              "    <tr>\n",
              "      <th>1</th>\n",
              "      <td>0.000000</td>\n",
              "      <td>0.894118</td>\n",
              "      <td>0.105882</td>\n",
              "    </tr>\n",
              "    <tr>\n",
              "      <th>2</th>\n",
              "      <td>0.000000</td>\n",
              "      <td>0.888889</td>\n",
              "      <td>0.111111</td>\n",
              "    </tr>\n",
              "    <tr>\n",
              "      <th>3</th>\n",
              "      <td>0.000000</td>\n",
              "      <td>0.888889</td>\n",
              "      <td>0.111111</td>\n",
              "    </tr>\n",
              "    <tr>\n",
              "      <th>4</th>\n",
              "      <td>0.000000</td>\n",
              "      <td>0.888889</td>\n",
              "      <td>0.111111</td>\n",
              "    </tr>\n",
              "    <tr>\n",
              "      <th>...</th>\n",
              "      <td>...</td>\n",
              "      <td>...</td>\n",
              "      <td>...</td>\n",
              "    </tr>\n",
              "    <tr>\n",
              "      <th>393</th>\n",
              "      <td>0.076923</td>\n",
              "      <td>0.000000</td>\n",
              "      <td>0.923077</td>\n",
              "    </tr>\n",
              "    <tr>\n",
              "      <th>394</th>\n",
              "      <td>0.325581</td>\n",
              "      <td>0.000000</td>\n",
              "      <td>0.674419</td>\n",
              "    </tr>\n",
              "    <tr>\n",
              "      <th>395</th>\n",
              "      <td>0.076923</td>\n",
              "      <td>0.000000</td>\n",
              "      <td>0.923077</td>\n",
              "    </tr>\n",
              "    <tr>\n",
              "      <th>396</th>\n",
              "      <td>0.076923</td>\n",
              "      <td>0.000000</td>\n",
              "      <td>0.923077</td>\n",
              "    </tr>\n",
              "    <tr>\n",
              "      <th>397</th>\n",
              "      <td>0.076923</td>\n",
              "      <td>0.000000</td>\n",
              "      <td>0.923077</td>\n",
              "    </tr>\n",
              "  </tbody>\n",
              "</table>\n",
              "<p>398 rows × 3 columns</p>\n",
              "</div>\n",
              "    <div class=\"colab-df-buttons\">\n",
              "\n",
              "  <div class=\"colab-df-container\">\n",
              "    <button class=\"colab-df-convert\" onclick=\"convertToInteractive('df-3f4d18ab-a4de-4a98-9aad-1f6fd41eb824')\"\n",
              "            title=\"Convert this dataframe to an interactive table.\"\n",
              "            style=\"display:none;\">\n",
              "\n",
              "  <svg xmlns=\"http://www.w3.org/2000/svg\" height=\"24px\" viewBox=\"0 -960 960 960\">\n",
              "    <path d=\"M120-120v-720h720v720H120Zm60-500h600v-160H180v160Zm220 220h160v-160H400v160Zm0 220h160v-160H400v160ZM180-400h160v-160H180v160Zm440 0h160v-160H620v160ZM180-180h160v-160H180v160Zm440 0h160v-160H620v160Z\"/>\n",
              "  </svg>\n",
              "    </button>\n",
              "\n",
              "  <style>\n",
              "    .colab-df-container {\n",
              "      display:flex;\n",
              "      gap: 12px;\n",
              "    }\n",
              "\n",
              "    .colab-df-convert {\n",
              "      background-color: #E8F0FE;\n",
              "      border: none;\n",
              "      border-radius: 50%;\n",
              "      cursor: pointer;\n",
              "      display: none;\n",
              "      fill: #1967D2;\n",
              "      height: 32px;\n",
              "      padding: 0 0 0 0;\n",
              "      width: 32px;\n",
              "    }\n",
              "\n",
              "    .colab-df-convert:hover {\n",
              "      background-color: #E2EBFA;\n",
              "      box-shadow: 0px 1px 2px rgba(60, 64, 67, 0.3), 0px 1px 3px 1px rgba(60, 64, 67, 0.15);\n",
              "      fill: #174EA6;\n",
              "    }\n",
              "\n",
              "    .colab-df-buttons div {\n",
              "      margin-bottom: 4px;\n",
              "    }\n",
              "\n",
              "    [theme=dark] .colab-df-convert {\n",
              "      background-color: #3B4455;\n",
              "      fill: #D2E3FC;\n",
              "    }\n",
              "\n",
              "    [theme=dark] .colab-df-convert:hover {\n",
              "      background-color: #434B5C;\n",
              "      box-shadow: 0px 1px 3px 1px rgba(0, 0, 0, 0.15);\n",
              "      filter: drop-shadow(0px 1px 2px rgba(0, 0, 0, 0.3));\n",
              "      fill: #FFFFFF;\n",
              "    }\n",
              "  </style>\n",
              "\n",
              "    <script>\n",
              "      const buttonEl =\n",
              "        document.querySelector('#df-3f4d18ab-a4de-4a98-9aad-1f6fd41eb824 button.colab-df-convert');\n",
              "      buttonEl.style.display =\n",
              "        google.colab.kernel.accessAllowed ? 'block' : 'none';\n",
              "\n",
              "      async function convertToInteractive(key) {\n",
              "        const element = document.querySelector('#df-3f4d18ab-a4de-4a98-9aad-1f6fd41eb824');\n",
              "        const dataTable =\n",
              "          await google.colab.kernel.invokeFunction('convertToInteractive',\n",
              "                                                    [key], {});\n",
              "        if (!dataTable) return;\n",
              "\n",
              "        const docLinkHtml = 'Like what you see? Visit the ' +\n",
              "          '<a target=\"_blank\" href=https://colab.research.google.com/notebooks/data_table.ipynb>data table notebook</a>'\n",
              "          + ' to learn more about interactive tables.';\n",
              "        element.innerHTML = '';\n",
              "        dataTable['output_type'] = 'display_data';\n",
              "        await google.colab.output.renderOutput(dataTable, element);\n",
              "        const docLink = document.createElement('div');\n",
              "        docLink.innerHTML = docLinkHtml;\n",
              "        element.appendChild(docLink);\n",
              "      }\n",
              "    </script>\n",
              "  </div>\n",
              "\n",
              "\n",
              "<div id=\"df-b7a5e049-babb-4a65-9e4a-4a7c53d4c93d\">\n",
              "  <button class=\"colab-df-quickchart\" onclick=\"quickchart('df-b7a5e049-babb-4a65-9e4a-4a7c53d4c93d')\"\n",
              "            title=\"Suggest charts\"\n",
              "            style=\"display:none;\">\n",
              "\n",
              "<svg xmlns=\"http://www.w3.org/2000/svg\" height=\"24px\"viewBox=\"0 0 24 24\"\n",
              "     width=\"24px\">\n",
              "    <g>\n",
              "        <path d=\"M19 3H5c-1.1 0-2 .9-2 2v14c0 1.1.9 2 2 2h14c1.1 0 2-.9 2-2V5c0-1.1-.9-2-2-2zM9 17H7v-7h2v7zm4 0h-2V7h2v10zm4 0h-2v-4h2v4z\"/>\n",
              "    </g>\n",
              "</svg>\n",
              "  </button>\n",
              "\n",
              "<style>\n",
              "  .colab-df-quickchart {\n",
              "      --bg-color: #E8F0FE;\n",
              "      --fill-color: #1967D2;\n",
              "      --hover-bg-color: #E2EBFA;\n",
              "      --hover-fill-color: #174EA6;\n",
              "      --disabled-fill-color: #AAA;\n",
              "      --disabled-bg-color: #DDD;\n",
              "  }\n",
              "\n",
              "  [theme=dark] .colab-df-quickchart {\n",
              "      --bg-color: #3B4455;\n",
              "      --fill-color: #D2E3FC;\n",
              "      --hover-bg-color: #434B5C;\n",
              "      --hover-fill-color: #FFFFFF;\n",
              "      --disabled-bg-color: #3B4455;\n",
              "      --disabled-fill-color: #666;\n",
              "  }\n",
              "\n",
              "  .colab-df-quickchart {\n",
              "    background-color: var(--bg-color);\n",
              "    border: none;\n",
              "    border-radius: 50%;\n",
              "    cursor: pointer;\n",
              "    display: none;\n",
              "    fill: var(--fill-color);\n",
              "    height: 32px;\n",
              "    padding: 0;\n",
              "    width: 32px;\n",
              "  }\n",
              "\n",
              "  .colab-df-quickchart:hover {\n",
              "    background-color: var(--hover-bg-color);\n",
              "    box-shadow: 0 1px 2px rgba(60, 64, 67, 0.3), 0 1px 3px 1px rgba(60, 64, 67, 0.15);\n",
              "    fill: var(--button-hover-fill-color);\n",
              "  }\n",
              "\n",
              "  .colab-df-quickchart-complete:disabled,\n",
              "  .colab-df-quickchart-complete:disabled:hover {\n",
              "    background-color: var(--disabled-bg-color);\n",
              "    fill: var(--disabled-fill-color);\n",
              "    box-shadow: none;\n",
              "  }\n",
              "\n",
              "  .colab-df-spinner {\n",
              "    border: 2px solid var(--fill-color);\n",
              "    border-color: transparent;\n",
              "    border-bottom-color: var(--fill-color);\n",
              "    animation:\n",
              "      spin 1s steps(1) infinite;\n",
              "  }\n",
              "\n",
              "  @keyframes spin {\n",
              "    0% {\n",
              "      border-color: transparent;\n",
              "      border-bottom-color: var(--fill-color);\n",
              "      border-left-color: var(--fill-color);\n",
              "    }\n",
              "    20% {\n",
              "      border-color: transparent;\n",
              "      border-left-color: var(--fill-color);\n",
              "      border-top-color: var(--fill-color);\n",
              "    }\n",
              "    30% {\n",
              "      border-color: transparent;\n",
              "      border-left-color: var(--fill-color);\n",
              "      border-top-color: var(--fill-color);\n",
              "      border-right-color: var(--fill-color);\n",
              "    }\n",
              "    40% {\n",
              "      border-color: transparent;\n",
              "      border-right-color: var(--fill-color);\n",
              "      border-top-color: var(--fill-color);\n",
              "    }\n",
              "    60% {\n",
              "      border-color: transparent;\n",
              "      border-right-color: var(--fill-color);\n",
              "    }\n",
              "    80% {\n",
              "      border-color: transparent;\n",
              "      border-right-color: var(--fill-color);\n",
              "      border-bottom-color: var(--fill-color);\n",
              "    }\n",
              "    90% {\n",
              "      border-color: transparent;\n",
              "      border-bottom-color: var(--fill-color);\n",
              "    }\n",
              "  }\n",
              "</style>\n",
              "\n",
              "  <script>\n",
              "    async function quickchart(key) {\n",
              "      const quickchartButtonEl =\n",
              "        document.querySelector('#' + key + ' button');\n",
              "      quickchartButtonEl.disabled = true;  // To prevent multiple clicks.\n",
              "      quickchartButtonEl.classList.add('colab-df-spinner');\n",
              "      try {\n",
              "        const charts = await google.colab.kernel.invokeFunction(\n",
              "            'suggestCharts', [key], {});\n",
              "      } catch (error) {\n",
              "        console.error('Error during call to suggestCharts:', error);\n",
              "      }\n",
              "      quickchartButtonEl.classList.remove('colab-df-spinner');\n",
              "      quickchartButtonEl.classList.add('colab-df-quickchart-complete');\n",
              "    }\n",
              "    (() => {\n",
              "      let quickchartButtonEl =\n",
              "        document.querySelector('#df-b7a5e049-babb-4a65-9e4a-4a7c53d4c93d button');\n",
              "      quickchartButtonEl.style.display =\n",
              "        google.colab.kernel.accessAllowed ? 'block' : 'none';\n",
              "    })();\n",
              "  </script>\n",
              "</div>\n",
              "\n",
              "    </div>\n",
              "  </div>\n"
            ],
            "application/vnd.google.colaboratory.intrinsic+json": {
              "type": "dataframe",
              "summary": "{\n  \"name\": \"model\",\n  \"rows\": 398,\n  \"fields\": [\n    {\n      \"column\": \"L_0\",\n      \"properties\": {\n        \"dtype\": \"number\",\n        \"std\": 0.2975674844939769,\n        \"min\": 0.0,\n        \"max\": 1.0,\n        \"num_unique_values\": 12,\n        \"samples\": [\n          0.9,\n          0.46153846153846156,\n          0.0\n        ],\n        \"semantic_type\": \"\",\n        \"description\": \"\"\n      }\n    },\n    {\n      \"column\": \"L_1\",\n      \"properties\": {\n        \"dtype\": \"number\",\n        \"std\": 0.37015324287237733,\n        \"min\": 0.0,\n        \"max\": 0.8941176470588236,\n        \"num_unique_values\": 7,\n        \"samples\": [\n          0.8888888888888888,\n          0.8941176470588236,\n          0.21739130434782608\n        ],\n        \"semantic_type\": \"\",\n        \"description\": \"\"\n      }\n    },\n    {\n      \"column\": \"L_2\",\n      \"properties\": {\n        \"dtype\": \"number\",\n        \"std\": 0.30723574900335543,\n        \"min\": 0.0,\n        \"max\": 1.0,\n        \"num_unique_values\": 15,\n        \"samples\": [\n          0.6666666666666666,\n          0.1,\n          0.1111111111111111\n        ],\n        \"semantic_type\": \"\",\n        \"description\": \"\"\n      }\n    }\n  ]\n}"
            }
          },
          "metadata": {},
          "execution_count": 106
        }
      ],
      "source": [
        "test = df.copy()\n",
        "test = test.drop(['D', 'H'], axis = 1)\n",
        "model.predict_probability(test.drop('L', axis = 1))"
      ]
    },
    {
      "cell_type": "code",
      "source": [
        "model.predict(test.drop('L', axis = 1))"
      ],
      "metadata": {
        "colab": {
          "base_uri": "https://localhost:8080/",
          "height": 456,
          "referenced_widgets": [
            "287faa169ea84c55b76a363b28ccbff5",
            "7bb3f402c3c94327bacb96337ede3502",
            "c9d8cdce3d8c44059e50edece506cb21",
            "15ab4bc49b1d49628dea241057f6ed13",
            "fa315a9d4ede4454b4c56b568320c3af",
            "34b38d2f2c67472d975572359ed93d77",
            "6b640ab7ff1a4216a7b82562871b8e1c",
            "a5bc029a0742419fb56dd4b13e9f7f69",
            "0f90d1027966465285da47a489ad88b2",
            "6a73bfcd07c645cba8cb7a1df9be67ec",
            "547fa01688dc4b99ac2130a36d2604df"
          ]
        },
        "id": "yKlhBc18i_Sl",
        "outputId": "429e7f83-6481-4c20-c5bc-afb347b79d2e"
      },
      "execution_count": 97,
      "outputs": [
        {
          "output_type": "display_data",
          "data": {
            "text/plain": [
              "  0%|          | 0/206 [00:00<?, ?it/s]"
            ],
            "application/vnd.jupyter.widget-view+json": {
              "version_major": 2,
              "version_minor": 0,
              "model_id": "287faa169ea84c55b76a363b28ccbff5"
            }
          },
          "metadata": {}
        },
        {
          "output_type": "execute_result",
          "data": {
            "text/plain": [
              "     L\n",
              "0    1\n",
              "1    1\n",
              "2    1\n",
              "3    1\n",
              "4    1\n",
              "..  ..\n",
              "393  2\n",
              "394  2\n",
              "395  2\n",
              "396  2\n",
              "397  2\n",
              "\n",
              "[398 rows x 1 columns]"
            ],
            "text/html": [
              "\n",
              "  <div id=\"df-89c04592-b7d7-406f-9634-ae3f0ea77275\" class=\"colab-df-container\">\n",
              "    <div>\n",
              "<style scoped>\n",
              "    .dataframe tbody tr th:only-of-type {\n",
              "        vertical-align: middle;\n",
              "    }\n",
              "\n",
              "    .dataframe tbody tr th {\n",
              "        vertical-align: top;\n",
              "    }\n",
              "\n",
              "    .dataframe thead th {\n",
              "        text-align: right;\n",
              "    }\n",
              "</style>\n",
              "<table border=\"1\" class=\"dataframe\">\n",
              "  <thead>\n",
              "    <tr style=\"text-align: right;\">\n",
              "      <th></th>\n",
              "      <th>L</th>\n",
              "    </tr>\n",
              "  </thead>\n",
              "  <tbody>\n",
              "    <tr>\n",
              "      <th>0</th>\n",
              "      <td>1</td>\n",
              "    </tr>\n",
              "    <tr>\n",
              "      <th>1</th>\n",
              "      <td>1</td>\n",
              "    </tr>\n",
              "    <tr>\n",
              "      <th>2</th>\n",
              "      <td>1</td>\n",
              "    </tr>\n",
              "    <tr>\n",
              "      <th>3</th>\n",
              "      <td>1</td>\n",
              "    </tr>\n",
              "    <tr>\n",
              "      <th>4</th>\n",
              "      <td>1</td>\n",
              "    </tr>\n",
              "    <tr>\n",
              "      <th>...</th>\n",
              "      <td>...</td>\n",
              "    </tr>\n",
              "    <tr>\n",
              "      <th>393</th>\n",
              "      <td>2</td>\n",
              "    </tr>\n",
              "    <tr>\n",
              "      <th>394</th>\n",
              "      <td>2</td>\n",
              "    </tr>\n",
              "    <tr>\n",
              "      <th>395</th>\n",
              "      <td>2</td>\n",
              "    </tr>\n",
              "    <tr>\n",
              "      <th>396</th>\n",
              "      <td>2</td>\n",
              "    </tr>\n",
              "    <tr>\n",
              "      <th>397</th>\n",
              "      <td>2</td>\n",
              "    </tr>\n",
              "  </tbody>\n",
              "</table>\n",
              "<p>398 rows × 1 columns</p>\n",
              "</div>\n",
              "    <div class=\"colab-df-buttons\">\n",
              "\n",
              "  <div class=\"colab-df-container\">\n",
              "    <button class=\"colab-df-convert\" onclick=\"convertToInteractive('df-89c04592-b7d7-406f-9634-ae3f0ea77275')\"\n",
              "            title=\"Convert this dataframe to an interactive table.\"\n",
              "            style=\"display:none;\">\n",
              "\n",
              "  <svg xmlns=\"http://www.w3.org/2000/svg\" height=\"24px\" viewBox=\"0 -960 960 960\">\n",
              "    <path d=\"M120-120v-720h720v720H120Zm60-500h600v-160H180v160Zm220 220h160v-160H400v160Zm0 220h160v-160H400v160ZM180-400h160v-160H180v160Zm440 0h160v-160H620v160ZM180-180h160v-160H180v160Zm440 0h160v-160H620v160Z\"/>\n",
              "  </svg>\n",
              "    </button>\n",
              "\n",
              "  <style>\n",
              "    .colab-df-container {\n",
              "      display:flex;\n",
              "      gap: 12px;\n",
              "    }\n",
              "\n",
              "    .colab-df-convert {\n",
              "      background-color: #E8F0FE;\n",
              "      border: none;\n",
              "      border-radius: 50%;\n",
              "      cursor: pointer;\n",
              "      display: none;\n",
              "      fill: #1967D2;\n",
              "      height: 32px;\n",
              "      padding: 0 0 0 0;\n",
              "      width: 32px;\n",
              "    }\n",
              "\n",
              "    .colab-df-convert:hover {\n",
              "      background-color: #E2EBFA;\n",
              "      box-shadow: 0px 1px 2px rgba(60, 64, 67, 0.3), 0px 1px 3px 1px rgba(60, 64, 67, 0.15);\n",
              "      fill: #174EA6;\n",
              "    }\n",
              "\n",
              "    .colab-df-buttons div {\n",
              "      margin-bottom: 4px;\n",
              "    }\n",
              "\n",
              "    [theme=dark] .colab-df-convert {\n",
              "      background-color: #3B4455;\n",
              "      fill: #D2E3FC;\n",
              "    }\n",
              "\n",
              "    [theme=dark] .colab-df-convert:hover {\n",
              "      background-color: #434B5C;\n",
              "      box-shadow: 0px 1px 3px 1px rgba(0, 0, 0, 0.15);\n",
              "      filter: drop-shadow(0px 1px 2px rgba(0, 0, 0, 0.3));\n",
              "      fill: #FFFFFF;\n",
              "    }\n",
              "  </style>\n",
              "\n",
              "    <script>\n",
              "      const buttonEl =\n",
              "        document.querySelector('#df-89c04592-b7d7-406f-9634-ae3f0ea77275 button.colab-df-convert');\n",
              "      buttonEl.style.display =\n",
              "        google.colab.kernel.accessAllowed ? 'block' : 'none';\n",
              "\n",
              "      async function convertToInteractive(key) {\n",
              "        const element = document.querySelector('#df-89c04592-b7d7-406f-9634-ae3f0ea77275');\n",
              "        const dataTable =\n",
              "          await google.colab.kernel.invokeFunction('convertToInteractive',\n",
              "                                                    [key], {});\n",
              "        if (!dataTable) return;\n",
              "\n",
              "        const docLinkHtml = 'Like what you see? Visit the ' +\n",
              "          '<a target=\"_blank\" href=https://colab.research.google.com/notebooks/data_table.ipynb>data table notebook</a>'\n",
              "          + ' to learn more about interactive tables.';\n",
              "        element.innerHTML = '';\n",
              "        dataTable['output_type'] = 'display_data';\n",
              "        await google.colab.output.renderOutput(dataTable, element);\n",
              "        const docLink = document.createElement('div');\n",
              "        docLink.innerHTML = docLinkHtml;\n",
              "        element.appendChild(docLink);\n",
              "      }\n",
              "    </script>\n",
              "  </div>\n",
              "\n",
              "\n",
              "<div id=\"df-26ce8165-b209-494f-90be-0f61519b7a88\">\n",
              "  <button class=\"colab-df-quickchart\" onclick=\"quickchart('df-26ce8165-b209-494f-90be-0f61519b7a88')\"\n",
              "            title=\"Suggest charts\"\n",
              "            style=\"display:none;\">\n",
              "\n",
              "<svg xmlns=\"http://www.w3.org/2000/svg\" height=\"24px\"viewBox=\"0 0 24 24\"\n",
              "     width=\"24px\">\n",
              "    <g>\n",
              "        <path d=\"M19 3H5c-1.1 0-2 .9-2 2v14c0 1.1.9 2 2 2h14c1.1 0 2-.9 2-2V5c0-1.1-.9-2-2-2zM9 17H7v-7h2v7zm4 0h-2V7h2v10zm4 0h-2v-4h2v4z\"/>\n",
              "    </g>\n",
              "</svg>\n",
              "  </button>\n",
              "\n",
              "<style>\n",
              "  .colab-df-quickchart {\n",
              "      --bg-color: #E8F0FE;\n",
              "      --fill-color: #1967D2;\n",
              "      --hover-bg-color: #E2EBFA;\n",
              "      --hover-fill-color: #174EA6;\n",
              "      --disabled-fill-color: #AAA;\n",
              "      --disabled-bg-color: #DDD;\n",
              "  }\n",
              "\n",
              "  [theme=dark] .colab-df-quickchart {\n",
              "      --bg-color: #3B4455;\n",
              "      --fill-color: #D2E3FC;\n",
              "      --hover-bg-color: #434B5C;\n",
              "      --hover-fill-color: #FFFFFF;\n",
              "      --disabled-bg-color: #3B4455;\n",
              "      --disabled-fill-color: #666;\n",
              "  }\n",
              "\n",
              "  .colab-df-quickchart {\n",
              "    background-color: var(--bg-color);\n",
              "    border: none;\n",
              "    border-radius: 50%;\n",
              "    cursor: pointer;\n",
              "    display: none;\n",
              "    fill: var(--fill-color);\n",
              "    height: 32px;\n",
              "    padding: 0;\n",
              "    width: 32px;\n",
              "  }\n",
              "\n",
              "  .colab-df-quickchart:hover {\n",
              "    background-color: var(--hover-bg-color);\n",
              "    box-shadow: 0 1px 2px rgba(60, 64, 67, 0.3), 0 1px 3px 1px rgba(60, 64, 67, 0.15);\n",
              "    fill: var(--button-hover-fill-color);\n",
              "  }\n",
              "\n",
              "  .colab-df-quickchart-complete:disabled,\n",
              "  .colab-df-quickchart-complete:disabled:hover {\n",
              "    background-color: var(--disabled-bg-color);\n",
              "    fill: var(--disabled-fill-color);\n",
              "    box-shadow: none;\n",
              "  }\n",
              "\n",
              "  .colab-df-spinner {\n",
              "    border: 2px solid var(--fill-color);\n",
              "    border-color: transparent;\n",
              "    border-bottom-color: var(--fill-color);\n",
              "    animation:\n",
              "      spin 1s steps(1) infinite;\n",
              "  }\n",
              "\n",
              "  @keyframes spin {\n",
              "    0% {\n",
              "      border-color: transparent;\n",
              "      border-bottom-color: var(--fill-color);\n",
              "      border-left-color: var(--fill-color);\n",
              "    }\n",
              "    20% {\n",
              "      border-color: transparent;\n",
              "      border-left-color: var(--fill-color);\n",
              "      border-top-color: var(--fill-color);\n",
              "    }\n",
              "    30% {\n",
              "      border-color: transparent;\n",
              "      border-left-color: var(--fill-color);\n",
              "      border-top-color: var(--fill-color);\n",
              "      border-right-color: var(--fill-color);\n",
              "    }\n",
              "    40% {\n",
              "      border-color: transparent;\n",
              "      border-right-color: var(--fill-color);\n",
              "      border-top-color: var(--fill-color);\n",
              "    }\n",
              "    60% {\n",
              "      border-color: transparent;\n",
              "      border-right-color: var(--fill-color);\n",
              "    }\n",
              "    80% {\n",
              "      border-color: transparent;\n",
              "      border-right-color: var(--fill-color);\n",
              "      border-bottom-color: var(--fill-color);\n",
              "    }\n",
              "    90% {\n",
              "      border-color: transparent;\n",
              "      border-bottom-color: var(--fill-color);\n",
              "    }\n",
              "  }\n",
              "</style>\n",
              "\n",
              "  <script>\n",
              "    async function quickchart(key) {\n",
              "      const quickchartButtonEl =\n",
              "        document.querySelector('#' + key + ' button');\n",
              "      quickchartButtonEl.disabled = true;  // To prevent multiple clicks.\n",
              "      quickchartButtonEl.classList.add('colab-df-spinner');\n",
              "      try {\n",
              "        const charts = await google.colab.kernel.invokeFunction(\n",
              "            'suggestCharts', [key], {});\n",
              "      } catch (error) {\n",
              "        console.error('Error during call to suggestCharts:', error);\n",
              "      }\n",
              "      quickchartButtonEl.classList.remove('colab-df-spinner');\n",
              "      quickchartButtonEl.classList.add('colab-df-quickchart-complete');\n",
              "    }\n",
              "    (() => {\n",
              "      let quickchartButtonEl =\n",
              "        document.querySelector('#df-26ce8165-b209-494f-90be-0f61519b7a88 button');\n",
              "      quickchartButtonEl.style.display =\n",
              "        google.colab.kernel.accessAllowed ? 'block' : 'none';\n",
              "    })();\n",
              "  </script>\n",
              "</div>\n",
              "\n",
              "    </div>\n",
              "  </div>\n"
            ],
            "application/vnd.google.colaboratory.intrinsic+json": {
              "type": "dataframe",
              "summary": "{\n  \"name\": \"model\",\n  \"rows\": 398,\n  \"fields\": [\n    {\n      \"column\": \"L\",\n      \"properties\": {\n        \"dtype\": \"int32\",\n        \"num_unique_values\": 3,\n        \"samples\": [\n          1,\n          0,\n          2\n        ],\n        \"semantic_type\": \"\",\n        \"description\": \"\"\n      }\n    }\n  ]\n}"
            }
          },
          "metadata": {},
          "execution_count": 97
        }
      ]
    }
  ],
  "metadata": {
    "colab": {
      "provenance": []
    },
    "kernelspec": {
      "display_name": "Python 3",
      "name": "python3"
    },
    "language_info": {
      "name": "python"
    },
    "widgets": {
      "application/vnd.jupyter.widget-state+json": {
        "287faa169ea84c55b76a363b28ccbff5": {
          "model_module": "@jupyter-widgets/controls",
          "model_name": "HBoxModel",
          "model_module_version": "1.5.0",
          "state": {
            "_dom_classes": [],
            "_model_module": "@jupyter-widgets/controls",
            "_model_module_version": "1.5.0",
            "_model_name": "HBoxModel",
            "_view_count": null,
            "_view_module": "@jupyter-widgets/controls",
            "_view_module_version": "1.5.0",
            "_view_name": "HBoxView",
            "box_style": "",
            "children": [
              "IPY_MODEL_7bb3f402c3c94327bacb96337ede3502",
              "IPY_MODEL_c9d8cdce3d8c44059e50edece506cb21",
              "IPY_MODEL_15ab4bc49b1d49628dea241057f6ed13"
            ],
            "layout": "IPY_MODEL_fa315a9d4ede4454b4c56b568320c3af"
          }
        },
        "7bb3f402c3c94327bacb96337ede3502": {
          "model_module": "@jupyter-widgets/controls",
          "model_name": "HTMLModel",
          "model_module_version": "1.5.0",
          "state": {
            "_dom_classes": [],
            "_model_module": "@jupyter-widgets/controls",
            "_model_module_version": "1.5.0",
            "_model_name": "HTMLModel",
            "_view_count": null,
            "_view_module": "@jupyter-widgets/controls",
            "_view_module_version": "1.5.0",
            "_view_name": "HTMLView",
            "description": "",
            "description_tooltip": null,
            "layout": "IPY_MODEL_34b38d2f2c67472d975572359ed93d77",
            "placeholder": "​",
            "style": "IPY_MODEL_6b640ab7ff1a4216a7b82562871b8e1c",
            "value": "100%"
          }
        },
        "c9d8cdce3d8c44059e50edece506cb21": {
          "model_module": "@jupyter-widgets/controls",
          "model_name": "FloatProgressModel",
          "model_module_version": "1.5.0",
          "state": {
            "_dom_classes": [],
            "_model_module": "@jupyter-widgets/controls",
            "_model_module_version": "1.5.0",
            "_model_name": "FloatProgressModel",
            "_view_count": null,
            "_view_module": "@jupyter-widgets/controls",
            "_view_module_version": "1.5.0",
            "_view_name": "ProgressView",
            "bar_style": "success",
            "description": "",
            "description_tooltip": null,
            "layout": "IPY_MODEL_a5bc029a0742419fb56dd4b13e9f7f69",
            "max": 206,
            "min": 0,
            "orientation": "horizontal",
            "style": "IPY_MODEL_0f90d1027966465285da47a489ad88b2",
            "value": 206
          }
        },
        "15ab4bc49b1d49628dea241057f6ed13": {
          "model_module": "@jupyter-widgets/controls",
          "model_name": "HTMLModel",
          "model_module_version": "1.5.0",
          "state": {
            "_dom_classes": [],
            "_model_module": "@jupyter-widgets/controls",
            "_model_module_version": "1.5.0",
            "_model_name": "HTMLModel",
            "_view_count": null,
            "_view_module": "@jupyter-widgets/controls",
            "_view_module_version": "1.5.0",
            "_view_name": "HTMLView",
            "description": "",
            "description_tooltip": null,
            "layout": "IPY_MODEL_6a73bfcd07c645cba8cb7a1df9be67ec",
            "placeholder": "​",
            "style": "IPY_MODEL_547fa01688dc4b99ac2130a36d2604df",
            "value": " 206/206 [00:11&lt;00:00, 45.34it/s]"
          }
        },
        "fa315a9d4ede4454b4c56b568320c3af": {
          "model_module": "@jupyter-widgets/base",
          "model_name": "LayoutModel",
          "model_module_version": "1.2.0",
          "state": {
            "_model_module": "@jupyter-widgets/base",
            "_model_module_version": "1.2.0",
            "_model_name": "LayoutModel",
            "_view_count": null,
            "_view_module": "@jupyter-widgets/base",
            "_view_module_version": "1.2.0",
            "_view_name": "LayoutView",
            "align_content": null,
            "align_items": null,
            "align_self": null,
            "border": null,
            "bottom": null,
            "display": null,
            "flex": null,
            "flex_flow": null,
            "grid_area": null,
            "grid_auto_columns": null,
            "grid_auto_flow": null,
            "grid_auto_rows": null,
            "grid_column": null,
            "grid_gap": null,
            "grid_row": null,
            "grid_template_areas": null,
            "grid_template_columns": null,
            "grid_template_rows": null,
            "height": null,
            "justify_content": null,
            "justify_items": null,
            "left": null,
            "margin": null,
            "max_height": null,
            "max_width": null,
            "min_height": null,
            "min_width": null,
            "object_fit": null,
            "object_position": null,
            "order": null,
            "overflow": null,
            "overflow_x": null,
            "overflow_y": null,
            "padding": null,
            "right": null,
            "top": null,
            "visibility": null,
            "width": null
          }
        },
        "34b38d2f2c67472d975572359ed93d77": {
          "model_module": "@jupyter-widgets/base",
          "model_name": "LayoutModel",
          "model_module_version": "1.2.0",
          "state": {
            "_model_module": "@jupyter-widgets/base",
            "_model_module_version": "1.2.0",
            "_model_name": "LayoutModel",
            "_view_count": null,
            "_view_module": "@jupyter-widgets/base",
            "_view_module_version": "1.2.0",
            "_view_name": "LayoutView",
            "align_content": null,
            "align_items": null,
            "align_self": null,
            "border": null,
            "bottom": null,
            "display": null,
            "flex": null,
            "flex_flow": null,
            "grid_area": null,
            "grid_auto_columns": null,
            "grid_auto_flow": null,
            "grid_auto_rows": null,
            "grid_column": null,
            "grid_gap": null,
            "grid_row": null,
            "grid_template_areas": null,
            "grid_template_columns": null,
            "grid_template_rows": null,
            "height": null,
            "justify_content": null,
            "justify_items": null,
            "left": null,
            "margin": null,
            "max_height": null,
            "max_width": null,
            "min_height": null,
            "min_width": null,
            "object_fit": null,
            "object_position": null,
            "order": null,
            "overflow": null,
            "overflow_x": null,
            "overflow_y": null,
            "padding": null,
            "right": null,
            "top": null,
            "visibility": null,
            "width": null
          }
        },
        "6b640ab7ff1a4216a7b82562871b8e1c": {
          "model_module": "@jupyter-widgets/controls",
          "model_name": "DescriptionStyleModel",
          "model_module_version": "1.5.0",
          "state": {
            "_model_module": "@jupyter-widgets/controls",
            "_model_module_version": "1.5.0",
            "_model_name": "DescriptionStyleModel",
            "_view_count": null,
            "_view_module": "@jupyter-widgets/base",
            "_view_module_version": "1.2.0",
            "_view_name": "StyleView",
            "description_width": ""
          }
        },
        "a5bc029a0742419fb56dd4b13e9f7f69": {
          "model_module": "@jupyter-widgets/base",
          "model_name": "LayoutModel",
          "model_module_version": "1.2.0",
          "state": {
            "_model_module": "@jupyter-widgets/base",
            "_model_module_version": "1.2.0",
            "_model_name": "LayoutModel",
            "_view_count": null,
            "_view_module": "@jupyter-widgets/base",
            "_view_module_version": "1.2.0",
            "_view_name": "LayoutView",
            "align_content": null,
            "align_items": null,
            "align_self": null,
            "border": null,
            "bottom": null,
            "display": null,
            "flex": null,
            "flex_flow": null,
            "grid_area": null,
            "grid_auto_columns": null,
            "grid_auto_flow": null,
            "grid_auto_rows": null,
            "grid_column": null,
            "grid_gap": null,
            "grid_row": null,
            "grid_template_areas": null,
            "grid_template_columns": null,
            "grid_template_rows": null,
            "height": null,
            "justify_content": null,
            "justify_items": null,
            "left": null,
            "margin": null,
            "max_height": null,
            "max_width": null,
            "min_height": null,
            "min_width": null,
            "object_fit": null,
            "object_position": null,
            "order": null,
            "overflow": null,
            "overflow_x": null,
            "overflow_y": null,
            "padding": null,
            "right": null,
            "top": null,
            "visibility": null,
            "width": null
          }
        },
        "0f90d1027966465285da47a489ad88b2": {
          "model_module": "@jupyter-widgets/controls",
          "model_name": "ProgressStyleModel",
          "model_module_version": "1.5.0",
          "state": {
            "_model_module": "@jupyter-widgets/controls",
            "_model_module_version": "1.5.0",
            "_model_name": "ProgressStyleModel",
            "_view_count": null,
            "_view_module": "@jupyter-widgets/base",
            "_view_module_version": "1.2.0",
            "_view_name": "StyleView",
            "bar_color": null,
            "description_width": ""
          }
        },
        "6a73bfcd07c645cba8cb7a1df9be67ec": {
          "model_module": "@jupyter-widgets/base",
          "model_name": "LayoutModel",
          "model_module_version": "1.2.0",
          "state": {
            "_model_module": "@jupyter-widgets/base",
            "_model_module_version": "1.2.0",
            "_model_name": "LayoutModel",
            "_view_count": null,
            "_view_module": "@jupyter-widgets/base",
            "_view_module_version": "1.2.0",
            "_view_name": "LayoutView",
            "align_content": null,
            "align_items": null,
            "align_self": null,
            "border": null,
            "bottom": null,
            "display": null,
            "flex": null,
            "flex_flow": null,
            "grid_area": null,
            "grid_auto_columns": null,
            "grid_auto_flow": null,
            "grid_auto_rows": null,
            "grid_column": null,
            "grid_gap": null,
            "grid_row": null,
            "grid_template_areas": null,
            "grid_template_columns": null,
            "grid_template_rows": null,
            "height": null,
            "justify_content": null,
            "justify_items": null,
            "left": null,
            "margin": null,
            "max_height": null,
            "max_width": null,
            "min_height": null,
            "min_width": null,
            "object_fit": null,
            "object_position": null,
            "order": null,
            "overflow": null,
            "overflow_x": null,
            "overflow_y": null,
            "padding": null,
            "right": null,
            "top": null,
            "visibility": null,
            "width": null
          }
        },
        "547fa01688dc4b99ac2130a36d2604df": {
          "model_module": "@jupyter-widgets/controls",
          "model_name": "DescriptionStyleModel",
          "model_module_version": "1.5.0",
          "state": {
            "_model_module": "@jupyter-widgets/controls",
            "_model_module_version": "1.5.0",
            "_model_name": "DescriptionStyleModel",
            "_view_count": null,
            "_view_module": "@jupyter-widgets/base",
            "_view_module_version": "1.2.0",
            "_view_name": "StyleView",
            "description_width": ""
          }
        }
      }
    }
  },
  "nbformat": 4,
  "nbformat_minor": 0
}